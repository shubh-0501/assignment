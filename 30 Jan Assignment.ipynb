{
 "cells": [
  {
   "cell_type": "markdown",
   "id": "e739a80b-fb2e-47ab-8999-a1f38dbf5149",
   "metadata": {},
   "source": [
    "### Q1. Write a program to accept percentage from the user and display the grade according to the following criteria: \n",
    "Marks\tGrade\n",
    ">90\tA\n",
    "\n",
    ">80 and <= 90\tB\n",
    "\n",
    ">=60 and <= 80\tC\n",
    "\n",
    "< 60\tD"
   ]
  },
  {
   "cell_type": "code",
   "execution_count": 1,
   "id": "3785d8da-bd13-45fa-8c64-a92fa0a9ee15",
   "metadata": {},
   "outputs": [
    {
     "name": "stdin",
     "output_type": "stream",
     "text": [
      "Enter percentage:  25\n"
     ]
    },
    {
     "name": "stdout",
     "output_type": "stream",
     "text": [
      "Marks Grade D\n"
     ]
    }
   ],
   "source": [
    "per=float(input(\"Enter percentage: \"))\n",
    "if per>90:\n",
    "    print(\"Marks Grade A\")\n",
    "elif 80<per<=90:\n",
    "     print(\"Marks Grade B\")\n",
    "elif 60<=per<=80:\n",
    "     print(\"Marks Grade C\")\n",
    "else:\n",
    "     print(\"Marks Grade D\")"
   ]
  },
  {
   "cell_type": "markdown",
   "id": "ee0da52c-f876-433a-97e7-7e1038b6cace",
   "metadata": {},
   "source": [
    "###  Q2. Write a program to accept the cost price of a bike and display the road tax to be paid according to the following criteria: \n",
    "\n",
    "Tax\tCost Price (In Rs.)\n",
    "\n",
    "15%\t> 100000\n",
    "\n",
    "10%\t> 50000 and <= 100000\n",
    "\n",
    "5%\t<= 50000"
   ]
  },
  {
   "cell_type": "code",
   "execution_count": 3,
   "id": "add06ffd-3864-43bb-a5fe-05190509100f",
   "metadata": {},
   "outputs": [
    {
     "name": "stdin",
     "output_type": "stream",
     "text": [
      "Cost of Bike: Rs. 25864\n"
     ]
    },
    {
     "name": "stdout",
     "output_type": "stream",
     "text": [
      "Road Tax: Rs. 1293.2\n"
     ]
    }
   ],
   "source": [
    "Price=float(input(\"Cost of Bike: Rs.\"))\n",
    "R_Tax=0.0\n",
    "if Price>100000:\n",
    "    R_Tax=15/100*Price\n",
    "elif 50000<Price<=100000:\n",
    "     R_Tax=10/100*Price\n",
    "else:\n",
    "     R_Tax=5/100*Price\n",
    "print(\"Road Tax: Rs.\",R_Tax)"
   ]
  },
  {
   "cell_type": "markdown",
   "id": "2b3706d7-d9cf-4cbb-b93a-06a8164feb9a",
   "metadata": {},
   "source": [
    "### Q3. Accept any city from the user and display monuments of that city.\n",
    "\n",
    "City      Monument\n",
    "\n",
    "Delhi\tRed Fort\n",
    "\n",
    "Agra\tTaj Mahal\n",
    "\n",
    "Jaipur\tJal Mahal\n"
   ]
  },
  {
   "cell_type": "code",
   "execution_count": 4,
   "id": "cb649b52-558e-4e58-b00c-5fbeccb2fbde",
   "metadata": {},
   "outputs": [
    {
     "name": "stdin",
     "output_type": "stream",
     "text": [
      "Name of City delhi\n"
     ]
    },
    {
     "name": "stdout",
     "output_type": "stream",
     "text": [
      "Monument in Delhi is Red Fort\n"
     ]
    }
   ],
   "source": [
    "city=(input(\"Name of City\"))\n",
    "location=city.title()\n",
    "if location=='Delhi':\n",
    "    print(f\"Monument in {location} is Red Fort\")\n",
    "elif location=='Agra':\n",
    "    print(f\"Monument in {location} is Taj Mahal\")\n",
    "elif location=='Jaipur':\n",
    "    print(f\"Monument in {location} is Jal Mahal\")\n",
    "else:\n",
    "    print(f\"No monument found of {location} in the database\")\n"
   ]
  },
  {
   "cell_type": "markdown",
   "id": "0db0bafc-7592-487e-af8b-9500e907d440",
   "metadata": {},
   "source": [
    "### Q4. Check how many times a given number can be divided by 3 before it is less than or equal to 10. "
   ]
  },
  {
   "cell_type": "code",
   "execution_count": 5,
   "id": "23b150a2-44de-43d8-b484-5a97483b335c",
   "metadata": {},
   "outputs": [
    {
     "name": "stdin",
     "output_type": "stream",
     "text": [
      "Enter any Number 8998\n"
     ]
    },
    {
     "name": "stdout",
     "output_type": "stream",
     "text": [
      " 8998 is divided by three 7 times before it is less than or equal to 10\n"
     ]
    }
   ],
   "source": [
    "num=int(input(\"Enter any Number\"))\n",
    "temp=num\n",
    "count=0\n",
    "while temp>=10:\n",
    "    temp=temp/3\n",
    "    count=count+1\n",
    "print(f\" {num} is divided by three {count} times before it is less than or equal to 10\")"
   ]
  },
  {
   "cell_type": "markdown",
   "id": "13337554-0f64-4493-bd8e-ffc2a17d45c7",
   "metadata": {},
   "source": [
    "### Q5. Why and When to use While loop in python give a detailed description with example\n",
    "Ans. The while loop in Python is used when one wants to repeatedly execute a block of code as long as a certain condition is correct . The loop continues to execute as long as the condition is True.For example :-"
   ]
  },
  {
   "cell_type": "code",
   "execution_count": 6,
   "id": "48b29440-fb26-42c1-8b8f-e8df2de513d6",
   "metadata": {},
   "outputs": [
    {
     "name": "stdout",
     "output_type": "stream",
     "text": [
      "1\n",
      "3\n",
      "5\n",
      "7\n",
      "9\n",
      "11\n",
      "13\n",
      "15\n",
      "17\n",
      "19\n"
     ]
    }
   ],
   "source": [
    "num=1\n",
    "while num <=20 :\n",
    "    print(num)\n",
    "    num+=2"
   ]
  },
  {
   "cell_type": "markdown",
   "id": "4a3fbdec-38cf-47f1-85b0-7ead8f4ce8c9",
   "metadata": {},
   "source": [
    "#### Q6. Use nested while loop to print 3 different pattern. "
   ]
  },
  {
   "cell_type": "code",
   "execution_count": 7,
   "id": "b2f6b88e-c3f9-4ca4-8ca9-9935f6ad2168",
   "metadata": {},
   "outputs": [
    {
     "name": "stdin",
     "output_type": "stream",
     "text": [
      "Enter the number of Rows: 5\n"
     ]
    },
    {
     "name": "stdout",
     "output_type": "stream",
     "text": [
      "Pattern 1:\n",
      "*****\n",
      "****\n",
      "***\n",
      "**\n",
      "*\n",
      "Pattern 2:\n",
      "*\n",
      "**\n",
      "***\n",
      "****\n",
      "*****\n",
      "Pattern 3:\n",
      "*****\n",
      "*****\n",
      "*****\n",
      "*****\n",
      "*****\n"
     ]
    }
   ],
   "source": [
    "n=int(input(\"Enter the number of Rows:\"))\n",
    "a=n\n",
    "b=n\n",
    "c=n\n",
    "test=1\n",
    "while test==1:\n",
    "    print(\"Pattern 1:\")\n",
    "    while a>0:\n",
    "        print(\"*\"*a)\n",
    "        a-=1    \n",
    "    i=1\n",
    "    print(\"Pattern 2:\")\n",
    "    while i<=b:\n",
    "        print(\"*\"*i)\n",
    "        i=i+1\n",
    "    j=1\n",
    "    print(\"Pattern 3:\")\n",
    "    while j<=c:\n",
    "        print(\"*\"*c)\n",
    "        j=j+1\n",
    "    test=0"
   ]
  },
  {
   "cell_type": "markdown",
   "id": "147821a4-3e73-4fa5-95dc-c4905fc1cbcb",
   "metadata": {},
   "source": [
    "# 7. Reverse a while loop to display numbers from 10 to 1"
   ]
  },
  {
   "cell_type": "code",
   "execution_count": 8,
   "id": "fb140cea-cb62-4ec5-9314-c7ae5eb56cad",
   "metadata": {},
   "outputs": [
    {
     "name": "stdout",
     "output_type": "stream",
     "text": [
      "10\n",
      "9\n",
      "8\n",
      "7\n",
      "6\n",
      "5\n",
      "4\n",
      "3\n",
      "2\n",
      "1\n"
     ]
    }
   ],
   "source": [
    "a=10\n",
    "while a>0:\n",
    "    print(a)\n",
    "    a-=1"
   ]
  },
  {
   "cell_type": "markdown",
   "id": "bf613042-abe5-4ec6-872a-038432ca20f0",
   "metadata": {},
   "source": [
    "# 8. Reverse a while loop to display numbers from 10 to 1"
   ]
  },
  {
   "cell_type": "code",
   "execution_count": 16,
   "id": "e2e15ed9-1f18-4662-a480-da88081de0f7",
   "metadata": {},
   "outputs": [
    {
     "name": "stdout",
     "output_type": "stream",
     "text": [
      "10\n",
      "9\n",
      "8\n",
      "7\n",
      "6\n",
      "5\n",
      "4\n",
      "3\n",
      "2\n",
      "1\n"
     ]
    }
   ],
   "source": [
    "a=10\n",
    "while a>0:\n",
    "    print(a)\n",
    "    a-=1"
   ]
  },
  {
   "cell_type": "code",
   "execution_count": null,
   "id": "d37622d4-c85d-4692-8e8d-daae4aefb251",
   "metadata": {},
   "outputs": [],
   "source": []
  }
 ],
 "metadata": {
  "kernelspec": {
   "display_name": "Python 3 (ipykernel)",
   "language": "python",
   "name": "python3"
  },
  "language_info": {
   "codemirror_mode": {
    "name": "ipython",
    "version": 3
   },
   "file_extension": ".py",
   "mimetype": "text/x-python",
   "name": "python",
   "nbconvert_exporter": "python",
   "pygments_lexer": "ipython3",
   "version": "3.10.8"
  }
 },
 "nbformat": 4,
 "nbformat_minor": 5
}
