{
 "cells": [
  {
   "cell_type": "markdown",
   "id": "183d21b2-6aff-43dc-8c7f-8368ef526b59",
   "metadata": {},
   "source": [
    "1.Explain with an example each when to use a for loop and a while loop."
   ]
  },
  {
   "cell_type": "markdown",
   "id": "95678a25-1c1b-4e87-84b1-83b5b9aa7fd8",
   "metadata": {},
   "source": [
    "Ans: \n",
    "\n",
    "Both for loop and while loop is used to execute the statements repeatedly while the program runs. \n",
    "\n",
    "=> For loop is used when the number of iterations are known. \n",
    "\n",
    "=> While loop is used when we have to execute the program until the given condition is proved wrong."
   ]
  },
  {
   "cell_type": "markdown",
   "id": "70b60d27-3847-4748-8623-18b18962e1d6",
   "metadata": {},
   "source": [
    "For loop example: Calculating the table of a given number."
   ]
  },
  {
   "cell_type": "code",
   "execution_count": 1,
   "id": "b12a98ed-b015-4317-b83f-245778583a50",
   "metadata": {},
   "outputs": [
    {
     "name": "stdin",
     "output_type": "stream",
     "text": [
      "Enter the number: 19\n"
     ]
    },
    {
     "name": "stdout",
     "output_type": "stream",
     "text": [
      "19 * 1 = 19\n",
      "19 * 2 = 38\n",
      "19 * 3 = 57\n",
      "19 * 4 = 76\n",
      "19 * 5 = 95\n",
      "19 * 6 = 114\n",
      "19 * 7 = 133\n",
      "19 * 8 = 152\n",
      "19 * 9 = 171\n",
      "19 * 10 = 190\n"
     ]
    }
   ],
   "source": [
    "n=int(input(\"Enter the number:\"))\n",
    "for i in range(1,11):\n",
    "    print(n,\"*\",i,\"=\",n*i)"
   ]
  },
  {
   "cell_type": "markdown",
   "id": "0b925af4-b600-44aa-a9b5-6ca156c14bba",
   "metadata": {},
   "source": [
    "While loop example: Calculate sum of numbers until user enters 0"
   ]
  },
  {
   "cell_type": "code",
   "execution_count": 2,
   "id": "b6c1c2fa-dc67-4c44-aba3-9c07f34ce8aa",
   "metadata": {
    "tags": []
   },
   "outputs": [
    {
     "name": "stdin",
     "output_type": "stream",
     "text": [
      "Enter the numer: 10\n",
      "Enter the numer: 10\n",
      "Enter the numer: 2\n",
      "Enter the numer: 0\n"
     ]
    },
    {
     "name": "stdout",
     "output_type": "stream",
     "text": [
      "The sum is  22\n"
     ]
    }
   ],
   "source": [
    "num=int(input(\"Enter the numer:\"))\n",
    "sum=0\n",
    "while num!=0:\n",
    "    sum=sum+num\n",
    "    num=int(input(\"Enter the numer:\"))\n",
    "print(\"The sum is \",sum)"
   ]
  },
  {
   "cell_type": "markdown",
   "id": "77a51e2b-4b2f-4829-8cb0-fa723061f652",
   "metadata": {},
   "source": [
    "2. Write a python program to print the sum and product of the first 10 natural numbers using for\n",
    "and while loop."
   ]
  },
  {
   "cell_type": "code",
   "execution_count": 3,
   "id": "2a5d6d40-1fb5-46bb-8af2-4ff4679464be",
   "metadata": {
    "scrolled": true,
    "tags": []
   },
   "outputs": [
    {
     "name": "stdout",
     "output_type": "stream",
     "text": [
      "Sum of first 10 Natural Numbers= 55\n",
      "Product of first 10 Natural Numbers= 3628800\n"
     ]
    }
   ],
   "source": [
    "#For loop\n",
    "Sum=0\n",
    "Pro=1\n",
    "count=1\n",
    "for i in range(1,11):\n",
    "    Sum=Sum+i\n",
    "    Pro=Pro*i\n",
    "print('Sum of first 10 Natural Numbers=',Sum)\n",
    "print('Product of first 10 Natural Numbers=',Pro)"
   ]
  },
  {
   "cell_type": "code",
   "execution_count": 4,
   "id": "18b9e8be-1385-4ae1-b113-f0e05206b008",
   "metadata": {},
   "outputs": [
    {
     "name": "stdout",
     "output_type": "stream",
     "text": [
      "Sum of first 10 Natural Numbers= 55\n",
      "Product of first 10 Natural Numbers= 3628800\n"
     ]
    }
   ],
   "source": [
    "#While loop\n",
    "\n",
    "Sum=0\n",
    "Pro=1\n",
    "count=1\n",
    "while count<11:\n",
    "    Sum=Sum+count\n",
    "    Pro=Pro*count\n",
    "    count=count+1\n",
    "print('Sum of first 10 Natural Numbers=',Sum)\n",
    "print('Product of first 10 Natural Numbers=',Pro)"
   ]
  },
  {
   "cell_type": "markdown",
   "id": "f9a93b5f-7b18-477c-86e0-b99a53d85268",
   "metadata": {},
   "source": [
    "3. Create a python program to compute the electricity bill for a household.\n",
    "The per-unit charges in rupees are as follows: For the first 100 units, the user will be charged Rs. 4.5 per unit, for the next 100 units, the user will be charged Rs. 6 per unit, and for the next 100 units, the user will\n",
    "be charged Rs. 10 per unit, After 300 units and above the user will be charged Rs. 20 per unit.\n",
    "You are required to take the units of electricity consumed in a month from the user as input."
   ]
  },
  {
   "cell_type": "code",
   "execution_count": 5,
   "id": "a771e9ee-a1e0-47ad-a0a4-14bb862e233a",
   "metadata": {},
   "outputs": [
    {
     "name": "stdin",
     "output_type": "stream",
     "text": [
      "Enter monthly units of electricity: 310\n"
     ]
    },
    {
     "name": "stdout",
     "output_type": "stream",
     "text": [
      "Monthly Bill:  2250.0\n"
     ]
    }
   ],
   "source": [
    "monthly_unit=int(input(\"Enter monthly units of electricity:\"))\n",
    "Bill=0\n",
    "unit=0\n",
    "for i in range(1,monthly_unit+1):\n",
    "    if i<=100:\n",
    "        Bill=Bill+4.5\n",
    "    elif 100<i<=200:\n",
    "        Bill=6+ Bill\n",
    "    elif 200<i<=300:\n",
    "        Bill=10+ Bill\n",
    "    else:\n",
    "        Bill=20+ Bill\n",
    "print(\"Monthly Bill: \",Bill)\n",
    "        "
   ]
  },
  {
   "cell_type": "markdown",
   "id": "5e30033f-dcd1-48e5-928e-aaa6d261a766",
   "metadata": {},
   "source": [
    "4. Create a list of numbers from 1 to 100. Use for loop and while loop to calculate the cube of each\n",
    "number and if the cube of that number is divisible by 4 or 5 then append that number in a list and print\n",
    "that list."
   ]
  },
  {
   "cell_type": "code",
   "execution_count": 6,
   "id": "e187a3af-e01c-4e87-b19c-083e746b9e31",
   "metadata": {},
   "outputs": [
    {
     "name": "stdout",
     "output_type": "stream",
     "text": [
      "[2, 4, 5, 6, 8, 10, 12, 14, 15, 16, 18, 20, 22, 24, 25, 26, 28, 30, 32, 34, 35, 36, 38, 40, 42, 44, 45, 46, 48, 50, 52, 54, 55, 56, 58, 60, 62, 64, 65, 66, 68, 70, 72, 74, 75, 76, 78, 80, 82, 84, 85, 86, 88, 90, 92, 94, 95, 96, 98, 100]\n"
     ]
    }
   ],
   "source": [
    "#for loop\n",
    "\n",
    "list1=list(range(1,101))\n",
    "list2=[]\n",
    "for i in list1:\n",
    "    if i**3%4==0 or i**3%5==0:\n",
    "        list2.append(i)\n",
    "print(list2)"
   ]
  },
  {
   "cell_type": "code",
   "execution_count": 7,
   "id": "57e5020d-8724-4e91-abe3-d77a88632240",
   "metadata": {},
   "outputs": [
    {
     "name": "stdout",
     "output_type": "stream",
     "text": [
      "[2, 4, 5, 6, 8, 10, 12, 14, 15, 16, 18, 20, 22, 24, 25, 26, 28, 30, 32, 34, 35, 36, 38, 40, 42, 44, 45, 46, 48, 50, 52, 54, 55, 56, 58, 60, 62, 64, 65, 66, 68, 70, 72, 74, 75, 76, 78, 80, 82, 84, 85, 86, 88, 90, 92, 94, 95, 96, 98, 100]\n"
     ]
    }
   ],
   "source": [
    "#while loop\n",
    "\n",
    "list1=list(range(1,101))\n",
    "list2=[]\n",
    "count=1\n",
    "while count<=len(list1):\n",
    "    if count**3%4==0 or count**3%5==0:\n",
    "        list2.append(count)\n",
    "    count=count+1\n",
    "print(list2)"
   ]
  },
  {
   "cell_type": "markdown",
   "id": "35ac179b-2902-4e65-87a9-d78c3047ce14",
   "metadata": {},
   "source": [
    "5. Write a program to filter count vowels in the below-given string. \n",
    "\n",
    "    string = \"I want to become a data scientist\""
   ]
  },
  {
   "cell_type": "code",
   "execution_count": 8,
   "id": "86404fa9-590c-43e4-b585-421a079d68c3",
   "metadata": {},
   "outputs": [
    {
     "name": "stdout",
     "output_type": "stream",
     "text": [
      "Number of vowels in a given string: 13\n"
     ]
    }
   ],
   "source": [
    "string=\"I want to become a data scientist\"\n",
    "str2=string.lower()\n",
    "count=1\n",
    "for i in str2:\n",
    "    if i=='a' or i=='e' or i=='i' or i=='o' or i=='u':\n",
    "        count=count+1\n",
    "print(\"Number of vowels in a given string:\",count)"
   ]
  },
  {
   "cell_type": "code",
   "execution_count": null,
   "id": "d8bf2b6a-7440-49a9-a5da-1e331015818a",
   "metadata": {},
   "outputs": [],
   "source": []
  }
 ],
 "metadata": {
  "kernelspec": {
   "display_name": "Python 3 (ipykernel)",
   "language": "python",
   "name": "python3"
  },
  "language_info": {
   "codemirror_mode": {
    "name": "ipython",
    "version": 3
   },
   "file_extension": ".py",
   "mimetype": "text/x-python",
   "name": "python",
   "nbconvert_exporter": "python",
   "pygments_lexer": "ipython3",
   "version": "3.10.8"
  }
 },
 "nbformat": 4,
 "nbformat_minor": 5
}
