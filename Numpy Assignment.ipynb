{
 "cells": [
  {
   "cell_type": "code",
   "execution_count": 1,
   "id": "b0af3fdd-c848-4108-893d-f11b0e1a7c97",
   "metadata": {},
   "outputs": [
    {
     "name": "stdout",
     "output_type": "stream",
     "text": [
      "int32\n"
     ]
    }
   ],
   "source": [
    "# 1. Create a NumPy array 'arr' of integers from 0 to 5 and print its data type.\n",
    "import numpy as np\n",
    "\n",
    "arr = np.array([0, 1, 2, 3, 4, 5])\n",
    "print(arr.dtype)  # Prints the data type of the array"
   ]
  },
  {
   "cell_type": "code",
   "execution_count": 2,
   "id": "5bc13004-6efc-431d-9dce-62cd7abec0dd",
   "metadata": {},
   "outputs": [
    {
     "name": "stdout",
     "output_type": "stream",
     "text": [
      "Data type is float64\n"
     ]
    }
   ],
   "source": [
    "# 2. Given a NumPy array 'arr', check if its data type is float64.\n",
    "\n",
    "\n",
    "arr = np.array([0.1, 2.5, 3.4], dtype=np.float64)\n",
    "if arr.dtype == np.float64:\n",
    "    print(\"Data type is float64\")\n",
    "else:\n",
    "    print(\"Data type is not float64\")"
   ]
  },
  {
   "cell_type": "code",
   "execution_count": 3,
   "id": "f049002c-71e1-4b74-8ba6-83ab27f6b4de",
   "metadata": {},
   "outputs": [
    {
     "name": "stdout",
     "output_type": "stream",
     "text": [
      "[1.+2.j 3.+4.j 5.+6.j]\n"
     ]
    }
   ],
   "source": [
    "# 3. Create a NumPy array 'arr' with a data type of complex128 containing three complex numbers.\n",
    "\n",
    "\n",
    "arr = np.array([1+2j, 3+4j, 5+6j], dtype=np.complex128)\n",
    "print(arr)"
   ]
  },
  {
   "cell_type": "code",
   "execution_count": 4,
   "id": "c2bcabc7-1e5b-4c9a-97c9-21a454f8c5b5",
   "metadata": {},
   "outputs": [
    {
     "name": "stdout",
     "output_type": "stream",
     "text": [
      "[1. 2. 3. 4.]\n"
     ]
    }
   ],
   "source": [
    "# 4. Convert an existing NumPy array 'arr' of integers to float32 data type.\n",
    "\n",
    "\n",
    "arr = np.array([1, 2, 3, 4])\n",
    "arr_float32 = arr.astype(np.float32)\n",
    "print(arr_float32)"
   ]
  },
  {
   "cell_type": "code",
   "execution_count": 5,
   "id": "deabe0c7-98f1-474d-bb00-3909fffdf430",
   "metadata": {},
   "outputs": [
    {
     "name": "stdout",
     "output_type": "stream",
     "text": [
      "[0.12345679]\n"
     ]
    }
   ],
   "source": [
    "# 5. Given a NumPy array 'arr' with float64 data type, convert it to float32 to reduce decimal precision.\n",
    "\n",
    "\n",
    "arr = np.array([0.123456789], dtype=np.float64)\n",
    "arr_float32 = arr.astype(np.float32)\n",
    "print(arr_float32)"
   ]
  },
  {
   "cell_type": "code",
   "execution_count": 6,
   "id": "998abcd8-7d43-4e93-8e30-ec3e4d802d37",
   "metadata": {},
   "outputs": [
    {
     "name": "stdout",
     "output_type": "stream",
     "text": [
      "((3,), 3, dtype('int32'))\n"
     ]
    }
   ],
   "source": [
    "# 6. Write a function array_attributes that takes a NumPy array as input and returns its shape, size, and data type.\n",
    "\n",
    "\n",
    "def array_attributes(arr):\n",
    "    return arr.shape, arr.size, arr.dtype\n",
    "\n",
    "arr = np.array([1, 2, 3])\n",
    "print(array_attributes(arr))"
   ]
  },
  {
   "cell_type": "code",
   "execution_count": 7,
   "id": "8be6ad5f-0936-43b6-92d2-b6d0e1de3d20",
   "metadata": {},
   "outputs": [
    {
     "name": "stdout",
     "output_type": "stream",
     "text": [
      "2\n"
     ]
    }
   ],
   "source": [
    "# 7. Create a function array_dimension that takes a NumPy array as input and returns its dimensionality.\n",
    "\n",
    "\n",
    "def array_dimension(arr):\n",
    "    return arr.ndim\n",
    "\n",
    "arr = np.array([[1, 2, 3], [4, 5, 6]])\n",
    "print(array_dimension(arr))"
   ]
  },
  {
   "cell_type": "code",
   "execution_count": 8,
   "id": "bf631052-a6b9-4e6a-89fa-227c46f9fd59",
   "metadata": {},
   "outputs": [
    {
     "name": "stdout",
     "output_type": "stream",
     "text": [
      "(4, 12)\n"
     ]
    }
   ],
   "source": [
    "# 8. Design a function item_size_info that takes a NumPy array as input and returns the item size and the total size in bytes.\n",
    "\n",
    "\n",
    "def item_size_info(arr):\n",
    "    return arr.itemsize, arr.nbytes\n",
    "\n",
    "arr = np.array([1, 2, 3])\n",
    "print(item_size_info(arr))"
   ]
  },
  {
   "cell_type": "code",
   "execution_count": 9,
   "id": "687e095b-9a88-4473-811a-533002849a22",
   "metadata": {},
   "outputs": [
    {
     "name": "stdout",
     "output_type": "stream",
     "text": [
      "(12, 4)\n"
     ]
    }
   ],
   "source": [
    "# 9. Create a function array_strides that takes a NumPy array as input and returns the strides of the array.\n",
    "\n",
    "\n",
    "def array_strides(arr):\n",
    "    return arr.strides\n",
    "\n",
    "arr = np.array([[1, 2, 3], [4, 5, 6]])\n",
    "print(array_strides(arr))"
   ]
  },
  {
   "cell_type": "code",
   "execution_count": 10,
   "id": "e450a98d-8b3a-4c26-8656-1fda56f054ca",
   "metadata": {},
   "outputs": [
    {
     "name": "stdout",
     "output_type": "stream",
     "text": [
      "((2, 3), (12, 4))\n"
     ]
    }
   ],
   "source": [
    "# 10. Design a function shape_stride_relationship that takes a NumPy array as input and returns the shape and strides of the array.\n",
    "\n",
    "\n",
    "def shape_stride_relationship(arr):\n",
    "    return arr.shape, arr.strides\n",
    "\n",
    "arr = np.array([[1, 2, 3], [4, 5, 6]])\n",
    "print(shape_stride_relationship(arr))"
   ]
  },
  {
   "cell_type": "code",
   "execution_count": 11,
   "id": "f4e4d667-d8de-4c70-8d0d-ded8425ddba3",
   "metadata": {},
   "outputs": [
    {
     "name": "stdout",
     "output_type": "stream",
     "text": [
      "[0. 0. 0. 0. 0.]\n"
     ]
    }
   ],
   "source": [
    "# 11. Create a function create_zeros_array that takes an integer n as input and returns a NumPy array of zeros with n elements.\n",
    "\n",
    "\n",
    "def create_zeros_array(n):\n",
    "    return np.zeros(n)\n",
    "\n",
    "print(create_zeros_array(5))"
   ]
  },
  {
   "cell_type": "code",
   "execution_count": 12,
   "id": "e24aad2b-9c95-4d1c-b405-a561b6cf893f",
   "metadata": {},
   "outputs": [
    {
     "name": "stdout",
     "output_type": "stream",
     "text": [
      "[[1. 1. 1. 1.]\n",
      " [1. 1. 1. 1.]\n",
      " [1. 1. 1. 1.]]\n"
     ]
    }
   ],
   "source": [
    "# 12. Write a function create_ones_matrix that takes integers rows and cols as inputs and generates a 2D NumPy array filled with ones of size rows x cols.\n",
    "\n",
    "\n",
    "def create_ones_matrix(rows, cols):\n",
    "    return np.ones((rows, cols))\n",
    "\n",
    "print(create_ones_matrix(3, 4))"
   ]
  },
  {
   "cell_type": "code",
   "execution_count": 13,
   "id": "d3761889-fdc9-4e28-a84b-5d9b81fc19b6",
   "metadata": {},
   "outputs": [
    {
     "name": "stdout",
     "output_type": "stream",
     "text": [
      "[0 2 4 6 8]\n"
     ]
    }
   ],
   "source": [
    "# 13. Write a function generate_range_array that takes three integers start, stop, and step as arguments and creates a NumPy array with a range starting from start, ending at stop (exclusive), and with the specified step.\n",
    "\n",
    "\n",
    "def generate_range_array(start, stop, step):\n",
    "    return np.arange(start, stop, step)\n",
    "\n",
    "print(generate_range_array(0, 10, 2))"
   ]
  },
  {
   "cell_type": "code",
   "execution_count": 14,
   "id": "70e26d43-df33-44a2-8f62-8c6b1b7c7dbd",
   "metadata": {},
   "outputs": [
    {
     "name": "stdout",
     "output_type": "stream",
     "text": [
      "[0.   0.25 0.5  0.75 1.  ]\n"
     ]
    }
   ],
   "source": [
    "# 14. Design a function generate_linear_space that takes two floats start, stop, and an integer num as arguments and generates a NumPy array with num equally spaced values between start and stop (inclusive).\n",
    "\n",
    "def generate_linear_space(start, stop, num):\n",
    "    return np.linspace(start, stop, num)\n",
    "\n",
    "print(generate_linear_space(0, 1, 5))"
   ]
  },
  {
   "cell_type": "code",
   "execution_count": 15,
   "id": "c2f1db20-46ac-4271-b9f6-7d6ad46ac5fc",
   "metadata": {},
   "outputs": [
    {
     "name": "stdout",
     "output_type": "stream",
     "text": [
      "[[1. 0. 0. 0.]\n",
      " [0. 1. 0. 0.]\n",
      " [0. 0. 1. 0.]\n",
      " [0. 0. 0. 1.]]\n"
     ]
    }
   ],
   "source": [
    "# 15. Create a function create_identity_matrix that takes an integer n as input and generates a square identity matrix of size n x n using numpy.eye.\n",
    "\n",
    "\n",
    "def create_identity_matrix(n):\n",
    "    return np.eye(n)\n",
    "\n",
    "print(create_identity_matrix(4))"
   ]
  },
  {
   "cell_type": "code",
   "execution_count": 16,
   "id": "be22d5a2-3a43-4c5e-8882-76e9b058e5c1",
   "metadata": {},
   "outputs": [
    {
     "name": "stdout",
     "output_type": "stream",
     "text": [
      "[1 2 3 4 5]\n"
     ]
    }
   ],
   "source": [
    "# 16. Write a function that takes a Python list and converts it into a NumPy array.\n",
    "\n",
    "\n",
    "def list_to_numpy(arr):\n",
    "    return np.array(arr)\n",
    "\n",
    "print(list_to_numpy([1, 2, 3, 4, 5]))"
   ]
  },
  {
   "cell_type": "code",
   "execution_count": 17,
   "id": "60842b9d-ae33-404d-ac80-d899ddcd4fa3",
   "metadata": {},
   "outputs": [
    {
     "name": "stdout",
     "output_type": "stream",
     "text": [
      "[1 2 3]\n"
     ]
    }
   ],
   "source": [
    "# 17. Create a NumPy array and demonstrate the use of numpy.view to create a new array object with the same data.\n",
    "\n",
    "\n",
    "arr = np.array([1, 2, 3])\n",
    "arr_view = arr.view()\n",
    "print(arr_view)"
   ]
  },
  {
   "cell_type": "code",
   "execution_count": 18,
   "id": "bfbc2244-88ff-4f7e-84a9-3dad0e1a3c6c",
   "metadata": {},
   "outputs": [
    {
     "name": "stdout",
     "output_type": "stream",
     "text": [
      "[1 2 3 4 5 6]\n"
     ]
    }
   ],
   "source": [
    "# 18. Write a function that takes two NumPy arrays and concatenates them along a specified axis.\n",
    "\n",
    "\n",
    "def concatenate_arrays(arr1, arr2, axis=0):\n",
    "    return np.concatenate((arr1, arr2), axis=axis)\n",
    "\n",
    "arr1 = np.array([1, 2, 3])\n",
    "arr2 = np.array([4, 5, 6])\n",
    "print(concatenate_arrays(arr1, arr2))"
   ]
  },
  {
   "cell_type": "code",
   "execution_count": 19,
   "id": "ac60403d-26de-4bc3-bbb3-3daf75c8a9b1",
   "metadata": {},
   "outputs": [
    {
     "name": "stdout",
     "output_type": "stream",
     "text": [
      "[[1 2 5]\n",
      " [3 4 6]]\n"
     ]
    }
   ],
   "source": [
    "# 19. Create two NumPy arrays with different shapes and concatenate them horizontally using numpy.concatenate.\n",
    "\n",
    "\n",
    "arr1 = np.array([[1, 2], [3, 4]])\n",
    "arr2 = np.array([[5, 6]])\n",
    "print(np.concatenate((arr1, arr2.T), axis=1))"
   ]
  },
  {
   "cell_type": "code",
   "execution_count": 20,
   "id": "83cee9f9-fdea-4a0e-ab57-1f1966e6e407",
   "metadata": {},
   "outputs": [
    {
     "name": "stdout",
     "output_type": "stream",
     "text": [
      "[[1 2 3]\n",
      " [4 5 6]]\n"
     ]
    }
   ],
   "source": [
    "# 20. Write a function that vertically stacks multiple NumPy arrays given as a list.\n",
    "\n",
    "\n",
    "def stack_arrays(arrays_list):\n",
    "    return np.vstack(arrays_list)\n",
    "\n",
    "arr1 = np.array([1, 2, 3])\n",
    "arr2 = np.array([4, 5, 6])\n",
    "print(stack_arrays([arr1, arr2]))\n"
   ]
  },
  {
   "cell_type": "code",
   "execution_count": 21,
   "id": "e6265571-6e2a-4feb-885f-8890e0595c69",
   "metadata": {},
   "outputs": [
    {
     "name": "stdout",
     "output_type": "stream",
     "text": [
      "[1 3 5 7 9]\n"
     ]
    }
   ],
   "source": [
    "# 21. Write a Python function using NumPy to create an array of integers within a specified range (inclusive) with a given step size.\n",
    "\n",
    "\n",
    "def create_range_array(start, stop, step):\n",
    "    return np.arange(start, stop+1, step)\n",
    "\n",
    "print(create_range_array(1, 10, 2))\n"
   ]
  },
  {
   "cell_type": "code",
   "execution_count": 22,
   "id": "1fbfa45e-3146-4b4e-98b3-b19d32b90fbd",
   "metadata": {},
   "outputs": [
    {
     "name": "stdout",
     "output_type": "stream",
     "text": [
      "[0.         0.11111111 0.22222222 0.33333333 0.44444444 0.55555556\n",
      " 0.66666667 0.77777778 0.88888889 1.        ]\n"
     ]
    }
   ],
   "source": [
    "# 22. Write a Python function using NumPy to generate an array of 10 equally spaced values between 0 and 1 (inclusive).\n",
    "\n",
    "\n",
    "def generate_equal_space():\n",
    "    return np.linspace(0, 1, 10)\n",
    "\n",
    "print(generate_equal_space())\n"
   ]
  },
  {
   "cell_type": "code",
   "execution_count": 23,
   "id": "acf38f01-0965-4503-af15-ca7deb809272",
   "metadata": {},
   "outputs": [
    {
     "name": "stdout",
     "output_type": "stream",
     "text": [
      "[   1.            5.62341325   31.6227766   177.827941   1000.        ]\n"
     ]
    }
   ],
   "source": [
    "# 23. Write a Python function using NumPy to create an array of 5 logarithmically spaced values between 1 and 1000 (inclusive).\n",
    "\n",
    "\n",
    "def generate_log_space():\n",
    "    return np.logspace(0, 3, 5)  # logspace from 10^0 to 10^3, which is 1 to 1000\n",
    "\n",
    "print(generate_log_space())\n"
   ]
  },
  {
   "cell_type": "code",
   "execution_count": 24,
   "id": "a1e719fc-7713-450f-87c9-3f36f647b2ee",
   "metadata": {},
   "outputs": [
    {
     "data": {
      "text/html": [
       "<div>\n",
       "<style scoped>\n",
       "    .dataframe tbody tr th:only-of-type {\n",
       "        vertical-align: middle;\n",
       "    }\n",
       "\n",
       "    .dataframe tbody tr th {\n",
       "        vertical-align: top;\n",
       "    }\n",
       "\n",
       "    .dataframe thead th {\n",
       "        text-align: right;\n",
       "    }\n",
       "</style>\n",
       "<table border=\"1\" class=\"dataframe\">\n",
       "  <thead>\n",
       "    <tr style=\"text-align: right;\">\n",
       "      <th></th>\n",
       "      <th>Column1</th>\n",
       "      <th>Column2</th>\n",
       "      <th>Column3</th>\n",
       "    </tr>\n",
       "  </thead>\n",
       "  <tbody>\n",
       "    <tr>\n",
       "      <th>0</th>\n",
       "      <td>54</td>\n",
       "      <td>97</td>\n",
       "      <td>39</td>\n",
       "    </tr>\n",
       "    <tr>\n",
       "      <th>1</th>\n",
       "      <td>14</td>\n",
       "      <td>71</td>\n",
       "      <td>68</td>\n",
       "    </tr>\n",
       "    <tr>\n",
       "      <th>2</th>\n",
       "      <td>84</td>\n",
       "      <td>83</td>\n",
       "      <td>73</td>\n",
       "    </tr>\n",
       "    <tr>\n",
       "      <th>3</th>\n",
       "      <td>54</td>\n",
       "      <td>92</td>\n",
       "      <td>79</td>\n",
       "    </tr>\n",
       "    <tr>\n",
       "      <th>4</th>\n",
       "      <td>35</td>\n",
       "      <td>11</td>\n",
       "      <td>34</td>\n",
       "    </tr>\n",
       "  </tbody>\n",
       "</table>\n",
       "</div>"
      ],
      "text/plain": [
       "   Column1  Column2  Column3\n",
       "0       54       97       39\n",
       "1       14       71       68\n",
       "2       84       83       73\n",
       "3       54       92       79\n",
       "4       35       11       34"
      ]
     },
     "execution_count": 24,
     "metadata": {},
     "output_type": "execute_result"
    }
   ],
   "source": [
    "# 24. Create a Pandas DataFrame using a NumPy array that contains 5 rows and 3 columns, where the values are random integers between 1 and 100.\n",
    "\n",
    "import pandas as pd\n",
    "\n",
    "arr = np.random.randint(1, 101, size=(5, 3))\n",
    "df = pd.DataFrame(arr, columns=['Column1', 'Column2', 'Column3'])\n",
    "df\n"
   ]
  },
  {
   "cell_type": "code",
   "execution_count": 25,
   "id": "3d17db87-1359-412e-9d97-6ce57fa7879e",
   "metadata": {},
   "outputs": [
    {
     "name": "stdout",
     "output_type": "stream",
     "text": [
      "    A   B\n",
      "0  10 -20\n",
      "1   0  30\n",
      "2  15 -40\n"
     ]
    }
   ],
   "source": [
    "# 25. Write a function that takes a Pandas DataFrame and replaces all negative values in a specific column with zeros. Use NumPy operations within the Pandas DataFrame.\n",
    "\n",
    "\n",
    "def replace_negatives_with_zero(df, column_name):\n",
    "    df[column_name] = np.where(df[column_name] < 0, 0, df[column_name])\n",
    "    return df\n",
    "\n",
    "data = {'A': [10, -5, 15], 'B': [-20, 30, -40]}\n",
    "df = pd.DataFrame(data)\n",
    "print(replace_negatives_with_zero(df, 'A'))\n"
   ]
  },
  {
   "cell_type": "code",
   "execution_count": 26,
   "id": "100d2d98-29d6-4f7a-85de-eead4e201b54",
   "metadata": {},
   "outputs": [
    {
     "name": "stdout",
     "output_type": "stream",
     "text": [
      "3\n"
     ]
    }
   ],
   "source": [
    "# 26. Access the 3rd element from the given NumPy array.\n",
    "\n",
    "arr = np.array([1, 2, 3, 4, 5])\n",
    "print(arr[2])"
   ]
  },
  {
   "cell_type": "code",
   "execution_count": 27,
   "id": "b12b401d-b447-444a-ac3f-62a943f19788",
   "metadata": {},
   "outputs": [
    {
     "name": "stdout",
     "output_type": "stream",
     "text": [
      "6\n"
     ]
    }
   ],
   "source": [
    "# 27. Retrieve the element at index (1, 2) from the 2D NumPy array.\n",
    "\n",
    "arr_2d = np.array([[1, 2, 3], [4, 5, 6], [7, 8, 9]])\n",
    "print(arr_2d[1, 2])"
   ]
  },
  {
   "cell_type": "code",
   "execution_count": 28,
   "id": "0bb990fb-c085-4784-86ca-b0383242ba79",
   "metadata": {},
   "outputs": [
    {
     "name": "stdout",
     "output_type": "stream",
     "text": [
      "[ 8 10  7]\n"
     ]
    }
   ],
   "source": [
    "# 28. Using boolean indexing, extract elements greater than 5 from the given NumPy array.\n",
    "\n",
    "arr = np.array([3, 8, 2, 10, 5, 7])\n",
    "print(arr[arr > 5])"
   ]
  },
  {
   "cell_type": "code",
   "execution_count": 29,
   "id": "a2689821-ccac-4525-b8a5-bb7609bc33b6",
   "metadata": {},
   "outputs": [
    {
     "name": "stdout",
     "output_type": "stream",
     "text": [
      "[30 40 50]\n"
     ]
    }
   ],
   "source": [
    "# 29. Perform basic slicing to extract elements from index 2 to 5 (inclusive) from the given NumPy array.\n",
    "\n",
    "arr = np.array([10, 20, 30, 40, 50])\n",
    "print(arr[2:6])\n"
   ]
  },
  {
   "cell_type": "code",
   "execution_count": 30,
   "id": "478c131c-eb83-4c62-add4-24199dc21d3e",
   "metadata": {},
   "outputs": [
    {
     "name": "stdout",
     "output_type": "stream",
     "text": [
      "[[2 3]\n",
      " [5 6]]\n"
     ]
    }
   ],
   "source": [
    "# 30. Slice the 2D NumPy array to extract the sub-array [[2, 3], [5, 6]] from the given array.\n",
    "\n",
    "arr_2d = np.array([[1, 2, 3], [4, 5, 6], [7, 8, 9]])\n",
    "sub_array = arr_2d[0:2, 1:3]\n",
    "print(sub_array)"
   ]
  },
  {
   "cell_type": "code",
   "execution_count": 31,
   "id": "0631555c-6a99-4ae9-ba65-b6c3216b9f40",
   "metadata": {},
   "outputs": [
    {
     "name": "stdout",
     "output_type": "stream",
     "text": [
      "[[[1 2 3]\n",
      "  [4 5 6]]\n",
      "\n",
      " [[7 8 9]\n",
      "  [7 8 9]]]\n"
     ]
    }
   ],
   "source": [
    "# 31. Write a NumPy function to extract elements in specific order from a given 2D array based on indices provided in another array.\n",
    "\n",
    "def extract_elements(arr, indices):\n",
    "    return arr[indices]\n",
    "\n",
    "arr_2d = np.array([[1, 2, 3], [4, 5, 6], [7, 8, 9]])\n",
    "indices = np.array([[0, 1], [2, 2]])\n",
    "print(extract_elements(arr_2d, indices))"
   ]
  },
  {
   "cell_type": "code",
   "execution_count": 32,
   "id": "b030035f-9234-4051-959f-f0eb07202567",
   "metadata": {},
   "outputs": [
    {
     "name": "stdout",
     "output_type": "stream",
     "text": [
      "[12 15]\n"
     ]
    }
   ],
   "source": [
    "# 32. Create a NumPy function that filters elements greater than a threshold from a given 1D array using boolean indexing.\n",
    "\n",
    "def filter_elements(arr, threshold):\n",
    "    return arr[arr > threshold]\n",
    "\n",
    "arr = np.array([1, 5, 8, 12, 15])\n",
    "print(filter_elements(arr, 8))"
   ]
  },
  {
   "cell_type": "code",
   "execution_count": 33,
   "id": "26514503-1d2a-412f-936b-c5a13e373061",
   "metadata": {},
   "outputs": [
    {
     "name": "stdout",
     "output_type": "stream",
     "text": [
      "[2 7]\n"
     ]
    }
   ],
   "source": [
    "# 33. Develop a NumPy function that extracts specific elements from a 3D array using indices provided in three separate arrays for each dimension.\n",
    "\n",
    "def extract_3d_elements(arr, x, y, z):\n",
    "    return arr[x, y, z]\n",
    "\n",
    "arr_3d = np.array([[[1, 2], [3, 4]], [[5, 6], [7, 8]]])\n",
    "x_indices = np.array([0, 1])\n",
    "y_indices = np.array([0, 1])\n",
    "z_indices = np.array([1, 0])\n",
    "print(extract_3d_elements(arr_3d, x_indices, y_indices, z_indices))"
   ]
  },
  {
   "cell_type": "code",
   "execution_count": 34,
   "id": "dfccc276-6089-42a5-b44d-bb4bdd4fcd60",
   "metadata": {},
   "outputs": [
    {
     "name": "stdout",
     "output_type": "stream",
     "text": [
      "[6]\n"
     ]
    }
   ],
   "source": [
    "# 34. Write a NumPy function that returns elements from an array where both two conditions are satisfied using boolean indexing.\n",
    "\n",
    "def extract_elements_with_conditions(arr):\n",
    "    return arr[(arr > 3) & (arr < 10)]\n",
    "\n",
    "arr = np.array([1, 3, 6, 10, 15])\n",
    "print(extract_elements_with_conditions(arr))"
   ]
  },
  {
   "cell_type": "code",
   "execution_count": 35,
   "id": "c61a47ae-28fc-4ef5-bdc8-bd5b3031fb87",
   "metadata": {},
   "outputs": [
    {
     "name": "stdout",
     "output_type": "stream",
     "text": [
      "[2 9]\n"
     ]
    }
   ],
   "source": [
    "# 35. Create a NumPy function that extracts elements from a 2D array using row and column indices provided in separate arrays.\n",
    "\n",
    "def extract_elements_2d(arr, row_indices, col_indices):\n",
    "    return arr[row_indices, col_indices]\n",
    "\n",
    "arr_2d = np.array([[1, 2, 3], [4, 5, 6], [7, 8, 9]])\n",
    "row_indices = np.array([0, 2])\n",
    "col_indices = np.array([1, 2])\n",
    "print(extract_elements_2d(arr_2d, row_indices, col_indices))\n"
   ]
  },
  {
   "cell_type": "code",
   "execution_count": 36,
   "id": "1de14dea-6799-4888-93a6-524fcdb65833",
   "metadata": {},
   "outputs": [
    {
     "name": "stdout",
     "output_type": "stream",
     "text": [
      "[[ 6  7  8]\n",
      " [ 9 10 11]\n",
      " [12 13 14]]\n"
     ]
    }
   ],
   "source": [
    "# 36. Given an array arr of shape (3, 3), add a scalar value of 5 to each element using NumPy broadcasting.\n",
    "\n",
    "arr = np.array([[1, 2, 3], [4, 5, 6], [7, 8, 9]])\n",
    "arr += 5\n",
    "print(arr)\n"
   ]
  },
  {
   "cell_type": "code",
   "execution_count": 37,
   "id": "1c983648-527f-403b-b6e2-4ce7d5c16e2f",
   "metadata": {},
   "outputs": [
    {
     "name": "stdout",
     "output_type": "stream",
     "text": [
      "[[ 1  2  3  4]\n",
      " [10 12 14 16]\n",
      " [27 30 33 36]]\n"
     ]
    }
   ],
   "source": [
    "# 37. Consider two arrays arr1 of shape (1, 3) and arr2 of shape (3, 4). Multiply each row of arr2 by the corresponding element in arr1 using NumPy broadcasting.\n",
    "\n",
    "arr1 = np.array([[1, 2, 3]])\n",
    "arr2 = np.array([[1, 2, 3, 4], [5, 6, 7, 8], [9, 10, 11, 12]])\n",
    "result = arr2 * arr1.T\n",
    "print(result)"
   ]
  },
  {
   "cell_type": "code",
   "execution_count": 38,
   "id": "473f151c-86c1-4fd0-bc0e-a817faa17ae8",
   "metadata": {},
   "outputs": [
    {
     "name": "stdout",
     "output_type": "stream",
     "text": [
      "[[ 2  3  4]\n",
      " [ 6  7  8]\n",
      " [10 11 12]\n",
      " [14 15 16]]\n"
     ]
    }
   ],
   "source": [
    "# 38. Given a 1D array arr1 of shape (1, 4) and a 2D array arr2 of shape (4, 3), add arr1 to each row of arr2 using NumPy broadcasting.\n",
    "\n",
    "arr1 = np.array([[1, 2, 3, 4]])\n",
    "arr2 = np.array([[1, 2, 3], [4, 5, 6], [7, 8, 9], [10, 11, 12]])\n",
    "result = arr2 + arr1.T\n",
    "print(result)"
   ]
  },
  {
   "cell_type": "code",
   "execution_count": 39,
   "id": "9ab8c33b-1897-4408-bc3e-389df095e1cd",
   "metadata": {},
   "outputs": [
    {
     "name": "stdout",
     "output_type": "stream",
     "text": [
      "[[11 21 31]\n",
      " [12 22 32]\n",
      " [13 23 33]]\n"
     ]
    }
   ],
   "source": [
    "# 39. Consider two arrays arr1 of shape (3, 1) and arr2 of shape (1, 3). Add these arrays using NumPy broadcasting.\n",
    "\n",
    "arr1 = np.array([[1], [2], [3]])\n",
    "arr2 = np.array([[10, 20, 30]])\n",
    "result = arr1 + arr2\n",
    "print(result)\n"
   ]
  },
  {
   "cell_type": "code",
   "execution_count": 40,
   "id": "79b1fc03-893c-4d5d-ac1e-884cd712be55",
   "metadata": {},
   "outputs": [
    {
     "name": "stdout",
     "output_type": "stream",
     "text": [
      "Shape mismatch: operands could not be broadcast together with shapes (2,3) (2,2) \n"
     ]
    }
   ],
   "source": [
    "# 40. Given arrays arr1 of shape (2, 3) and arr2 of shape (2, 2), perform multiplication using NumPy broadcasting. Handle the shape incompatibility.\n",
    "\n",
    "arr1 = np.array([[1, 2, 3], [4, 5, 6]])\n",
    "arr2 = np.array([[1, 2], [3, 4]])\n",
    "try:\n",
    "    result = arr1 * arr2  # This will raise a ValueError\n",
    "except ValueError as e:\n",
    "    print(\"Shape mismatch:\", e)"
   ]
  },
  {
   "cell_type": "code",
   "execution_count": 41,
   "id": "10d53aad-81bc-4a52-bea8-88b964d9835c",
   "metadata": {},
   "outputs": [
    {
     "name": "stdout",
     "output_type": "stream",
     "text": [
      "[2.5 3.5 4.5]\n"
     ]
    }
   ],
   "source": [
    "# 41. Calculate column-wise mean for the given array.\n",
    "\n",
    "arr = np.array([[1, 2, 3], [4, 5, 6]])\n",
    "column_mean = np.mean(arr, axis=0)\n",
    "print(column_mean)\n"
   ]
  },
  {
   "cell_type": "code",
   "execution_count": 42,
   "id": "95114c53-732f-4545-a6e6-7e11a5d40952",
   "metadata": {},
   "outputs": [
    {
     "name": "stdout",
     "output_type": "stream",
     "text": [
      "[3 6]\n"
     ]
    }
   ],
   "source": [
    "# 42. Find the maximum value in each row of the given array.\n",
    "\n",
    "arr = np.array([[1, 2, 3], [4, 5, 6]])\n",
    "row_max = np.max(arr, axis=1)\n",
    "print(row_max)"
   ]
  },
  {
   "cell_type": "code",
   "execution_count": 43,
   "id": "9fe18000-e8ea-4a18-a952-0756610702ea",
   "metadata": {},
   "outputs": [
    {
     "name": "stdout",
     "output_type": "stream",
     "text": [
      "[1 1 1]\n"
     ]
    }
   ],
   "source": [
    "# 43. For the given array, find indices of the maximum value in each column.\n",
    "\n",
    "arr = np.array([[1, 2, 3], [4, 5, 6]])\n",
    "max_indices = np.argmax(arr, axis=0)\n",
    "print(max_indices)"
   ]
  },
  {
   "cell_type": "code",
   "execution_count": 44,
   "id": "0208a3b2-05f5-4d62-b536-ad08a6d0d785",
   "metadata": {},
   "outputs": [
    {
     "name": "stdout",
     "output_type": "stream",
     "text": [
      "[ 6.  9. 12.]\n"
     ]
    }
   ],
   "source": [
    "# 44. For the given array, apply a custom function to calculate the moving sum along rows.\n",
    "\n",
    "def moving_sum(arr, window):\n",
    "    return np.convolve(arr, np.ones(window), 'valid')\n",
    "\n",
    "arr = np.array([1, 2, 3, 4, 5])\n",
    "print(moving_sum(arr, 3))"
   ]
  },
  {
   "cell_type": "code",
   "execution_count": 45,
   "id": "d5e0f44f-5b37-49f2-957b-c31255bd86f5",
   "metadata": {},
   "outputs": [
    {
     "name": "stdout",
     "output_type": "stream",
     "text": [
      "[ 6.  9. 12.]\n"
     ]
    }
   ],
   "source": [
    "# 44. For the given array, apply a custom function to calculate the moving sum along rows.\n",
    "\n",
    "def moving_sum(arr, window):\n",
    "    return np.convolve(arr, np.ones(window), 'valid')\n",
    "\n",
    "arr = np.array([1, 2, 3, 4, 5])\n",
    "print(moving_sum(arr, 3))"
   ]
  },
  {
   "cell_type": "code",
   "execution_count": 46,
   "id": "32a409b0-010a-4f98-8d43-c47902c1012c",
   "metadata": {},
   "outputs": [
    {
     "name": "stdout",
     "output_type": "stream",
     "text": [
      "[[1 2 3]\n",
      " [4 5 6]]\n"
     ]
    }
   ],
   "source": [
    "# 46. Given a NumPy array arr, reshape it into a matrix of dimensions `m` rows and `n` columns. Return the reshaped matrix.\n",
    "\n",
    "def reshape_matrix(arr, m, n):\n",
    "    return arr.reshape(m, n)\n",
    "\n",
    "arr = np.array([1, 2, 3, 4, 5, 6])\n",
    "print(reshape_matrix(arr, 2, 3))"
   ]
  },
  {
   "cell_type": "code",
   "execution_count": 47,
   "id": "58e29a75-bfa8-450a-bd99-234aa56e4981",
   "metadata": {},
   "outputs": [
    {
     "name": "stdout",
     "output_type": "stream",
     "text": [
      "[1 2 3 4]\n"
     ]
    }
   ],
   "source": [
    "# 47. Create a function that takes a matrix as input and returns the flattened array.\n",
    "\n",
    "def flatten_matrix(matrix):\n",
    "    return matrix.flatten()\n",
    "\n",
    "matrix = np.array([[1, 2], [3, 4]])\n",
    "print(flatten_matrix(matrix))"
   ]
  },
  {
   "cell_type": "code",
   "execution_count": 48,
   "id": "b319011b-e0fd-413c-9579-4c116b01fac1",
   "metadata": {},
   "outputs": [
    {
     "name": "stdout",
     "output_type": "stream",
     "text": [
      "[[1 2]\n",
      " [3 4]\n",
      " [5 6]\n",
      " [7 8]]\n"
     ]
    }
   ],
   "source": [
    "# 48. Write a function that concatenates two given arrays along a specified axis.\n",
    "\n",
    "def concatenate_along_axis(arr1, arr2, axis=0):\n",
    "    return np.concatenate((arr1, arr2), axis=axis)\n",
    "\n",
    "arr1 = np.array([[1, 2], [3, 4]])\n",
    "arr2 = np.array([[5, 6], [7, 8]])\n",
    "print(concatenate_along_axis(arr1, arr2, axis=0))"
   ]
  },
  {
   "cell_type": "code",
   "execution_count": 49,
   "id": "4c87c939-752a-4e17-9693-9e47b768dfb9",
   "metadata": {},
   "outputs": [
    {
     "name": "stdout",
     "output_type": "stream",
     "text": [
      "[array([[1, 2],\n",
      "       [3, 4]]), array([[5, 6],\n",
      "       [7, 8]])]\n"
     ]
    }
   ],
   "source": [
    "# 49. Create a function that splits an array into multiple sub-arrays along a specified axis.\n",
    "\n",
    "def split_array(arr, indices_or_sections, axis=0):\n",
    "    return np.split(arr, indices_or_sections, axis=axis)\n",
    "\n",
    "arr = np.array([[1, 2], [3, 4], [5, 6], [7, 8]])\n",
    "print(split_array(arr, 2, axis=0))"
   ]
  },
  {
   "cell_type": "code",
   "execution_count": 50,
   "id": "380b3459-1793-4941-933e-e253309136c1",
   "metadata": {},
   "outputs": [
    {
     "name": "stdout",
     "output_type": "stream",
     "text": [
      "[ 1  2 10  4  5]\n"
     ]
    }
   ],
   "source": [
    "# 50. Write a function that inserts and then deletes elements from a given array at specified indices.\n",
    "\n",
    "def insert_and_delete(arr, insert_idx, insert_val, delete_idx):\n",
    "    arr = np.insert(arr, insert_idx, insert_val)\n",
    "    arr = np.delete(arr, delete_idx)\n",
    "    return arr\n",
    "\n",
    "arr = np.array([1, 2, 3, 4, 5])\n",
    "print(insert_and_delete(arr, 2, 10, 3))"
   ]
  },
  {
   "cell_type": "code",
   "execution_count": 51,
   "id": "4ed86c1a-763f-4fe6-b2c2-753933cab6b5",
   "metadata": {},
   "outputs": [
    {
     "name": "stdout",
     "output_type": "stream",
     "text": [
      "[11 12 13 14 15 14 17  9 18 11]\n"
     ]
    }
   ],
   "source": [
    "# 51. Create a NumPy array `arr1` with random integers and another array `arr2` with integers from 1 to 10. Perform element-wise addition between `arr1` and `arr2`.\n",
    "\n",
    "arr1 = np.random.randint(1, 11, size=10)\n",
    "arr2 = np.arange(1, 11)\n",
    "result = arr1 + arr2\n",
    "print(result)"
   ]
  },
  {
   "cell_type": "code",
   "execution_count": 52,
   "id": "b9b5660d-72f2-4266-ba9f-73fa56c748cf",
   "metadata": {},
   "outputs": [
    {
     "name": "stdout",
     "output_type": "stream",
     "text": [
      "[ 9  7  5  3  1 -1 -3 -5 -7 -9]\n"
     ]
    }
   ],
   "source": [
    "# 52. Generate a NumPy array `arr1` with sequential integers from 10 to 1 and another array `arr2` with integers from 1 to 10. Subtract `arr2` from `arr1` element-wise.\n",
    "\n",
    "arr1 = np.arange(10, 0, -1)\n",
    "arr2 = np.arange(1, 11)\n",
    "result = arr1 - arr2\n",
    "print(result)\n"
   ]
  },
  {
   "cell_type": "code",
   "execution_count": 53,
   "id": "8236a599-56d0-45f9-a14c-36458536ce51",
   "metadata": {},
   "outputs": [
    {
     "name": "stdout",
     "output_type": "stream",
     "text": [
      "[ 4  2 15 20 10]\n"
     ]
    }
   ],
   "source": [
    "# 53. Create a NumPy array `arr1` with random integers and another array `arr2` with integers from 1 to 5. Perform element-wise multiplication between `arr1` and `arr2`.\n",
    "\n",
    "arr1 = np.random.randint(1, 6, size=5)\n",
    "arr2 = np.array([1, 2, 3, 4, 5])\n",
    "result = arr1 * arr2\n",
    "print(result)"
   ]
  },
  {
   "cell_type": "code",
   "execution_count": 54,
   "id": "5bcc6f3a-90ca-4429-a706-d96085f53564",
   "metadata": {},
   "outputs": [
    {
     "name": "stdout",
     "output_type": "stream",
     "text": [
      "[2. 2. 2. 2. 2.]\n"
     ]
    }
   ],
   "source": [
    "# 54. Generate a NumPy array `arr1` with even integers from 2 to 10 and another array `arr2` with integers from 1 to 5. Perform element-wise division of `arr1` by `arr2`.\n",
    "\n",
    "arr1 = np.arange(2, 11, 2)\n",
    "arr2 = np.array([1, 2, 3, 4, 5])\n",
    "result = arr1 / arr2\n",
    "print(result)"
   ]
  },
  {
   "cell_type": "code",
   "execution_count": 55,
   "id": "58a1d15a-491c-447f-99aa-0b7c56ada8bb",
   "metadata": {},
   "outputs": [
    {
     "name": "stdout",
     "output_type": "stream",
     "text": [
      "[ 1 16 27 16  5]\n"
     ]
    }
   ],
   "source": [
    "# 55. Create a NumPy array `arr1` with integers from 1 to 5 and another array `arr2` with the same numbers reversed. Calculate the exponentiation of `arr1` raised to the power of `arr2` element-wise.\n",
    "\n",
    "arr1 = np.array([1, 2, 3, 4, 5])\n",
    "arr2 = np.array([5, 4, 3, 2, 1])\n",
    "result = arr1 ** arr2\n",
    "print(result)"
   ]
  },
  {
   "cell_type": "code",
   "execution_count": 56,
   "id": "e33e93f7-4584-4144-bc88-3b8f55e10eb8",
   "metadata": {},
   "outputs": [
    {
     "name": "stdout",
     "output_type": "stream",
     "text": [
      "[1 0 1 0 1]\n"
     ]
    }
   ],
   "source": [
    "# 56. Write a function that counts the occurrences of a specific substring within a NumPy array of strings.\n",
    "\n",
    "def count_substring(arr, substring):\n",
    "    return np.char.count(arr, substring)\n",
    "\n",
    "arr = np.array(['hello', 'world', 'hello', 'numpy', 'hello'])\n",
    "print(count_substring(arr, 'hello'))"
   ]
  },
  {
   "cell_type": "code",
   "execution_count": 57,
   "id": "6e800f6c-200f-4e9b-89f6-cc6c77a7b456",
   "metadata": {},
   "outputs": [
    {
     "name": "stdout",
     "output_type": "stream",
     "text": [
      "['HELLO' 'WORLD' 'OPENAI' 'GPT']\n"
     ]
    }
   ],
   "source": [
    "# 57. Write a function that extracts uppercase characters from a NumPy array of strings.\n",
    "\n",
    "def extract_uppercase(arr):\n",
    "    return np.char.upper(arr)\n",
    "\n",
    "arr = np.array(['Hello', 'World', 'OpenAI', 'GPT'])\n",
    "print(extract_uppercase(arr))"
   ]
  },
  {
   "cell_type": "code",
   "execution_count": 58,
   "id": "6b7ddf79-3f6e-48bb-a27c-bfb64096219d",
   "metadata": {},
   "outputs": [
    {
     "name": "stdout",
     "output_type": "stream",
     "text": [
      "['hi' 'world' 'hi' 'numpy']\n"
     ]
    }
   ],
   "source": [
    "# 58. Write a function that replaces occurrences of a substring in a NumPy array of strings with a new string.\n",
    "\n",
    "def replace_substring(arr, old, new):\n",
    "    return np.char.replace(arr, old, new)\n",
    "\n",
    "arr = np.array(['hello', 'world', 'hello', 'numpy'])\n",
    "print(replace_substring(arr, 'hello', 'hi'))"
   ]
  },
  {
   "cell_type": "code",
   "execution_count": 59,
   "id": "e8523500-6fe6-4682-ace0-1eb4db004d6d",
   "metadata": {},
   "outputs": [
    {
     "name": "stdout",
     "output_type": "stream",
     "text": [
      "['Hello World' 'Open AI']\n"
     ]
    }
   ],
   "source": [
    "# 59. Write a function that concatenates strings in a NumPy array element-wise.\n",
    "\n",
    "def concatenate_strings(arr1, arr2):\n",
    "    return np.char.add(arr1, arr2)\n",
    "\n",
    "arr1 = np.array(['Hello', 'Open'])\n",
    "arr2 = np.array([' World', ' AI'])\n",
    "print(concatenate_strings(arr1, arr2))\n"
   ]
  },
  {
   "cell_type": "code",
   "execution_count": 60,
   "id": "6ab61cb3-4c3d-4cc1-9733-89fbaa344a63",
   "metadata": {},
   "outputs": [
    {
     "name": "stdout",
     "output_type": "stream",
     "text": [
      "9\n"
     ]
    }
   ],
   "source": [
    "# 60. Write a function that finds the length of the longest string in a NumPy array.\n",
    "\n",
    "def find_longest_string(arr):\n",
    "    return np.vectorize(len)(arr).max()\n",
    "\n",
    "arr = np.array(['apple', 'banana', 'grape', 'pineapple'])\n",
    "print(find_longest_string(arr))\n"
   ]
  },
  {
   "cell_type": "code",
   "execution_count": 61,
   "id": "964d6a16-2401-458c-b133-385aabc926b7",
   "metadata": {},
   "outputs": [
    {
     "name": "stdout",
     "output_type": "stream",
     "text": [
      "Mean: 468.87, Median: 447.5, Variance: 102368.33309999999, Standard Deviation: 319.95051664280834\n"
     ]
    }
   ],
   "source": [
    "# 61. Create a dataset of 100 random integers between 1 and 1000. Compute the mean, median, variance, and standard deviation of the dataset using NumPy's functions.\n",
    "\n",
    "arr = np.random.randint(1, 1001, size=100)\n",
    "mean = np.mean(arr)\n",
    "median = np.median(arr)\n",
    "variance = np.var(arr)\n",
    "std_dev = np.std(arr)\n",
    "print(f\"Mean: {mean}, Median: {median}, Variance: {variance}, Standard Deviation: {std_dev}\")\n"
   ]
  },
  {
   "cell_type": "code",
   "execution_count": 62,
   "id": "25ef2254-367c-4dab-a984-3bb83a13e6c4",
   "metadata": {},
   "outputs": [
    {
     "name": "stdout",
     "output_type": "stream",
     "text": [
      "25th Percentile: 31.75, 75th Percentile: 71.5\n"
     ]
    }
   ],
   "source": [
    "# 62. Generate an array of 50 random numbers between 1 and 100. Find the 25th and 75th percentiles of the dataset.\n",
    "\n",
    "arr = np.random.randint(1, 101, size=50)\n",
    "percentile_25 = np.percentile(arr, 25)\n",
    "percentile_75 = np.percentile(arr, 75)\n",
    "print(f\"25th Percentile: {percentile_25}, 75th Percentile: {percentile_75}\")\n"
   ]
  },
  {
   "cell_type": "code",
   "execution_count": 63,
   "id": "f2f898fe-b3ad-4acd-a3e4-60b3ff631cc9",
   "metadata": {},
   "outputs": [
    {
     "name": "stdout",
     "output_type": "stream",
     "text": [
      "[[1.         0.63297816]\n",
      " [0.63297816 1.        ]]\n"
     ]
    }
   ],
   "source": [
    "# 63. Create two arrays representing two sets of variables. Compute the correlation coefficient between these arrays using NumPy's corrcoef function.\n",
    "\n",
    "arr1 = np.random.randint(1, 100, size=10)\n",
    "arr2 = np.random.randint(1, 100, size=10)\n",
    "correlation_coefficient = np.corrcoef(arr1, arr2)\n",
    "print(correlation_coefficient)\n"
   ]
  },
  {
   "cell_type": "code",
   "execution_count": 64,
   "id": "86cb9431-2cf9-4842-bd78-8579fb485ea7",
   "metadata": {},
   "outputs": [
    {
     "name": "stdout",
     "output_type": "stream",
     "text": [
      "[[19 22]\n",
      " [43 50]]\n"
     ]
    }
   ],
   "source": [
    "# 64. Create two matrices and perform matrix multiplication using NumPy's dot function.\n",
    "\n",
    "matrix1 = np.array([[1, 2], [3, 4]])\n",
    "matrix2 = np.array([[5, 6], [7, 8]])\n",
    "matrix_multiplication = np.dot(matrix1, matrix2)\n",
    "print(matrix_multiplication)\n"
   ]
  },
  {
   "cell_type": "code",
   "execution_count": 65,
   "id": "47e4bb5d-b6ce-40ee-8993-c07c0534ffb7",
   "metadata": {},
   "outputs": [
    {
     "name": "stdout",
     "output_type": "stream",
     "text": [
      "10th Percentile: 80.7, Median: 411.0, 90th Percentile: 916.5, Q1: 223.0, Q3: 642.5\n"
     ]
    }
   ],
   "source": [
    "# 65. Create an array of 50 integers between 10 and 1000. Calculate the 10th, 50th (median), and 90th percentiles along with the first and third quartiles.\n",
    "\n",
    "arr = np.random.randint(10, 1001, size=50)\n",
    "percentile_10 = np.percentile(arr, 10)\n",
    "percentile_50 = np.percentile(arr, 50)  # Median\n",
    "percentile_90 = np.percentile(arr, 90)\n",
    "quartile_1 = np.percentile(arr, 25)\n",
    "quartile_3 = np.percentile(arr, 75)\n",
    "print(f\"10th Percentile: {percentile_10}, Median: {percentile_50}, 90th Percentile: {percentile_90}, Q1: {quartile_1}, Q3: {quartile_3}\")\n"
   ]
  },
  {
   "cell_type": "code",
   "execution_count": 66,
   "id": "4d5e222d-215d-4683-86b4-d364d76dd2e9",
   "metadata": {},
   "outputs": [
    {
     "name": "stdout",
     "output_type": "stream",
     "text": [
      "2\n"
     ]
    }
   ],
   "source": [
    "# 66. Create a NumPy array of integers and find the index of a specific element.\n",
    "\n",
    "arr = np.array([10, 20, 30, 40, 50])\n",
    "index_of_element = np.where(arr == 30)[0][0]\n",
    "print(index_of_element)\n"
   ]
  },
  {
   "cell_type": "code",
   "execution_count": 67,
   "id": "e5485d21-37eb-4a80-b38e-cd8cee3bf572",
   "metadata": {},
   "outputs": [
    {
     "name": "stdout",
     "output_type": "stream",
     "text": [
      "[ 1 12 31 33 41 44 70 76 91 91]\n"
     ]
    }
   ],
   "source": [
    "# 67. Generate a random NumPy array and sort it in ascending order.\n",
    "\n",
    "arr = np.random.randint(1, 101, size=10)\n",
    "sorted_arr = np.sort(arr)\n",
    "print(sorted_arr)\n"
   ]
  },
  {
   "cell_type": "code",
   "execution_count": 68,
   "id": "e0f125d3-2cda-487e-b64d-d0b8ecb440ea",
   "metadata": {},
   "outputs": [
    {
     "name": "stdout",
     "output_type": "stream",
     "text": [
      "[25 42 30]\n"
     ]
    }
   ],
   "source": [
    "# 68. Filter elements greater than 20 in the given NumPy array.\n",
    "\n",
    "arr = np.array([10, 25, 6, 42, 8, 30])\n",
    "filtered_arr = arr[arr > 20]\n",
    "print(filtered_arr)\n"
   ]
  },
  {
   "cell_type": "code",
   "execution_count": 69,
   "id": "2a89b271-21fa-435e-bffc-155672fdd70b",
   "metadata": {},
   "outputs": [
    {
     "name": "stdout",
     "output_type": "stream",
     "text": [
      "[12 15]\n"
     ]
    }
   ],
   "source": [
    "# 69. Filter elements that are divisible by 3 from a given NumPy array.\n",
    "\n",
    "arr = np.array([1, 5, 8, 12, 15])\n",
    "divisible_by_3 = arr[arr % 3 == 0]\n",
    "print(divisible_by_3)\n"
   ]
  },
  {
   "cell_type": "code",
   "execution_count": 70,
   "id": "8e6bfdd0-bbd3-4b81-a079-2f478c7ec3fd",
   "metadata": {},
   "outputs": [
    {
     "name": "stdout",
     "output_type": "stream",
     "text": [
      "[25 30]\n"
     ]
    }
   ],
   "source": [
    "# 70. Filter elements that are ≥ 20 and ≤ 40 from a given NumPy array.\n",
    "\n",
    "arr = np.array([10, 25, 6, 42, 8, 30])\n",
    "filtered_arr = arr[(arr >= 20) & (arr <= 40)]\n",
    "print(filtered_arr)\n"
   ]
  },
  {
   "cell_type": "code",
   "execution_count": 71,
   "id": "f6e6738c-09fb-4b8e-89a0-f3138b78c7a4",
   "metadata": {},
   "outputs": [
    {
     "name": "stdout",
     "output_type": "stream",
     "text": [
      "=\n"
     ]
    }
   ],
   "source": [
    "# 71. For the given NumPy array, check its byte order using the dtype attribute byteorder.\n",
    "\n",
    "arr = np.array([1, 2, 3], dtype=np.int32)\n",
    "byte_order = arr.dtype.byteorder\n",
    "print(byte_order)"
   ]
  },
  {
   "cell_type": "code",
   "execution_count": 72,
   "id": "2b427c76-5d40-48e1-b8a8-ec201122e24f",
   "metadata": {},
   "outputs": [
    {
     "name": "stdout",
     "output_type": "stream",
     "text": [
      "[16777216 33554432 50331648]\n"
     ]
    }
   ],
   "source": [
    "# 72. For the given NumPy array, perform byte swapping in place using byteswap().\n",
    "\n",
    "arr = np.array([1, 2, 3], dtype=np.int32)\n",
    "arr.byteswap(True)\n",
    "print(arr)\n"
   ]
  },
  {
   "cell_type": "code",
   "execution_count": 73,
   "id": "8fb88ea8-e8bc-462b-8e3b-c388d8c5af7e",
   "metadata": {},
   "outputs": [
    {
     "name": "stdout",
     "output_type": "stream",
     "text": [
      "[16777216 33554432 50331648]\n"
     ]
    }
   ],
   "source": [
    "# 73. For the given NumPy array, swap its byte order without modifying the original array using newbyteorder().\n",
    "\n",
    "arr = np.array([1, 2, 3], dtype=np.int32)\n",
    "new_byte_order = arr.newbyteorder()\n",
    "print(new_byte_order)\n"
   ]
  },
  {
   "cell_type": "code",
   "execution_count": 74,
   "id": "03ba6939-edb5-46a0-bd56-0832e8a641bc",
   "metadata": {},
   "outputs": [
    {
     "name": "stdout",
     "output_type": "stream",
     "text": [
      "[16777216 33554432 50331648]\n"
     ]
    }
   ],
   "source": [
    "# 74. For the given NumPy array, swap its byte order conditionally based on system endianness using newbyteorder().\n",
    "\n",
    "arr = np.array([1, 2, 3], dtype=np.int32)\n",
    "if arr.dtype.byteorder == '>':  # Big-endian\n",
    "    swapped = arr.newbyteorder('<')  # Swap to little-endian\n",
    "else:\n",
    "    swapped = arr.newbyteorder('>')\n",
    "print(swapped)\n"
   ]
  },
  {
   "cell_type": "code",
   "execution_count": 75,
   "id": "f6760638-9372-49d9-afd9-afe402f81945",
   "metadata": {},
   "outputs": [
    {
     "name": "stdout",
     "output_type": "stream",
     "text": [
      "Byte swapping not necessary\n"
     ]
    }
   ],
   "source": [
    "# 75. For the given NumPy array, check if byte swapping is necessary for the current system using dtype attribute byteorder.\n",
    "\n",
    "arr = np.array([1, 2, 3], dtype=np.int32)\n",
    "if arr.dtype.byteorder == '=':\n",
    "    print(\"Byte swapping not necessary\")\n",
    "else:\n",
    "    print(\"Byte swapping might be necessary\")\n"
   ]
  },
  {
   "cell_type": "code",
   "execution_count": 76,
   "id": "f88bff80-5564-468b-8ffd-41a3adff5923",
   "metadata": {},
   "outputs": [
    {
     "name": "stdout",
     "output_type": "stream",
     "text": [
      "[[999  19  26]\n",
      " [  6  60  12]\n",
      " [ 23  93  42]]\n"
     ]
    }
   ],
   "source": [
    "# 77. Create a 2D NumPy array `matrix` of shape (3, 3) with random integers. Extract a slice `view_slice` from the matrix. Modify an element in `view_slice` and observe if it changes the original `matrix`.\n",
    "\n",
    "matrix = np.random.randint(1, 100, size=(3, 3))\n",
    "view_slice = matrix[0:2, 0:2]\n",
    "view_slice[0, 0] = 999\n",
    "print(matrix)\n"
   ]
  },
  {
   "cell_type": "code",
   "execution_count": 77,
   "id": "8a50548f-b0f6-4d27-bf5c-22d8aeab4ac8",
   "metadata": {},
   "outputs": [
    {
     "name": "stdout",
     "output_type": "stream",
     "text": [
      "[[ 1  2  3]\n",
      " [ 9 10 11]\n",
      " [12 13 14]\n",
      " [10 11 12]]\n"
     ]
    }
   ],
   "source": [
    "# 78. Create a NumPy array `array_a` of shape (4, 3) with sequential integers from 1 to 12. Extract a slice `view_b` from `array_a` and broadcast the addition of 5 to view_b. Check if it alters the original `array_a`.\n",
    "\n",
    "array_a = np.arange(1, 13).reshape(4, 3)\n",
    "view_b = array_a[1:3, :]\n",
    "view_b += 5\n",
    "print(array_a)\n"
   ]
  },
  {
   "cell_type": "code",
   "execution_count": 78,
   "id": "b48d0392-b8f8-4946-8a7d-2ab34f214ffe",
   "metadata": {},
   "outputs": [
    {
     "name": "stdout",
     "output_type": "stream",
     "text": [
      "[[999   2   3   4]\n",
      " [  5   6   7   8]]\n"
     ]
    }
   ],
   "source": [
    "# 79. Create a NumPy array `orig_array` of shape (2, 4) with values from 1 to 8. Create a reshaped view `reshaped_view` of shape (4, 2) from orig_array. Modify an element in `reshaped_view` and check if it reflects changes in the original `orig_array`.\n",
    "\n",
    "orig_array = np.arange(1, 9).reshape(2, 4)\n",
    "reshaped_view = orig_array.reshape(4, 2)\n",
    "reshaped_view[0, 0] = 999\n",
    "print(orig_array)\n"
   ]
  },
  {
   "cell_type": "code",
   "execution_count": 79,
   "id": "e9e09f14-fe7d-437f-b709-b112ac7d1a18",
   "metadata": {},
   "outputs": [
    {
     "name": "stdout",
     "output_type": "stream",
     "text": [
      "Original array:\n",
      " [[7 4 5 3]\n",
      " [7 4 2 1]\n",
      " [6 3 2 4]]\n",
      "Modified copy:\n",
      " [99  7  6]\n"
     ]
    }
   ],
   "source": [
    "# 80. Create a NumPy array `data` of shape (3, 4) with random integers.  Extract a copy `data_copy` of elements greater than 5.  Modify an element in `data_copy` and verify if it affects the original `data`.\n",
    "\n",
    "\n",
    "data = np.random.randint(1, 10, size=(3, 4))  # Create random integer array\n",
    "data_copy = data[data > 5].copy()  # Extract elements greater than 5 and make a copy\n",
    "\n",
    "# Modify an element in data_copy\n",
    "data_copy[0] = 99\n",
    "\n",
    "# Print results to verify if modification affects original array\n",
    "print(\"Original array:\\n\", data)\n",
    "print(\"Modified copy:\\n\", data_copy)\n"
   ]
  },
  {
   "cell_type": "code",
   "execution_count": 80,
   "id": "3b0c31e8-c296-4413-a63f-8bde6cf51b8b",
   "metadata": {},
   "outputs": [
    {
     "name": "stdout",
     "output_type": "stream",
     "text": [
      "Matrix A:\n",
      " [[4 4 3]\n",
      " [6 8 9]\n",
      " [2 8 9]]\n",
      "Matrix B:\n",
      " [[3 8 4]\n",
      " [4 7 4]\n",
      " [7 2 5]]\n",
      "Addition:\n",
      " [[ 7 12  7]\n",
      " [10 15 13]\n",
      " [ 9 10 14]]\n",
      "Subtraction:\n",
      " [[ 1 -4 -1]\n",
      " [ 2  1  5]\n",
      " [-5  6  4]]\n"
     ]
    }
   ],
   "source": [
    "# 81. Create two matrices A and B of identical shape containing integers  and perform addition and subtraction operations between them.\n",
    "\n",
    "A = np.random.randint(1, 10, size=(3, 3))  # Random 3x3 matrix\n",
    "B = np.random.randint(1, 10, size=(3, 3))  # Random 3x3 matrix\n",
    "\n",
    "# Perform addition and subtraction\n",
    "addition = A + B\n",
    "subtraction = A - B\n",
    "\n",
    "# Print results\n",
    "print(\"Matrix A:\\n\", A)\n",
    "print(\"Matrix B:\\n\", B)\n",
    "print(\"Addition:\\n\", addition)\n",
    "print(\"Subtraction:\\n\", subtraction)\n"
   ]
  },
  {
   "cell_type": "code",
   "execution_count": 81,
   "id": "2af7e68f-6ff8-445f-a688-b787c58e7ce4",
   "metadata": {},
   "outputs": [
    {
     "name": "stdout",
     "output_type": "stream",
     "text": [
      "Matrix C:\n",
      " [[7 3]\n",
      " [3 9]\n",
      " [9 6]]\n",
      "Matrix D:\n",
      " [[4 6 6 4]\n",
      " [4 1 8 1]]\n",
      "Matrix Multiplication (C * D):\n",
      " [[ 40  45  66  31]\n",
      " [ 48  27  90  21]\n",
      " [ 60  60 102  42]]\n"
     ]
    }
   ],
   "source": [
    "# 82. Generate two matrices `C` (3x2) and `D` (2x4) and perform matrix multiplication.\n",
    "\n",
    "C = np.random.randint(1, 10, size=(3, 2))  # 3x2 matrix\n",
    "D = np.random.randint(1, 10, size=(2, 4))  # 2x4 matrix\n",
    "\n",
    "# Perform matrix multiplication\n",
    "multiplication = np.dot(C, D)\n",
    "\n",
    "# Print results\n",
    "print(\"Matrix C:\\n\", C)\n",
    "print(\"Matrix D:\\n\", D)\n",
    "print(\"Matrix Multiplication (C * D):\\n\", multiplication)\n"
   ]
  },
  {
   "cell_type": "code",
   "execution_count": 82,
   "id": "662e0dbc-9ec7-466e-afc4-e0afb5c40356",
   "metadata": {},
   "outputs": [
    {
     "name": "stdout",
     "output_type": "stream",
     "text": [
      "Matrix E:\n",
      " [[7 3 6]\n",
      " [4 8 2]\n",
      " [2 3 8]]\n",
      "Transpose of E:\n",
      " [[7 4 2]\n",
      " [3 8 3]\n",
      " [6 2 8]]\n"
     ]
    }
   ],
   "source": [
    "# 83. Create a matrix `E` and find its transpose.\n",
    "\n",
    "E = np.random.randint(1, 10, size=(3, 3))  # 3x3 matrix\n",
    "\n",
    "# Find the transpose\n",
    "transpose = E.T\n",
    "\n",
    "# Print results\n",
    "print(\"Matrix E:\\n\", E)\n",
    "print(\"Transpose of E:\\n\", transpose)\n"
   ]
  },
  {
   "cell_type": "code",
   "execution_count": 83,
   "id": "18377ba5-b851-4564-b850-29dcaca1855a",
   "metadata": {},
   "outputs": [
    {
     "name": "stdout",
     "output_type": "stream",
     "text": [
      "Matrix F:\n",
      " [[2 4 8]\n",
      " [3 2 6]\n",
      " [6 2 2]]\n",
      "Determinant of F:\n",
      " 56.00000000000002\n"
     ]
    }
   ],
   "source": [
    "# 84. Generate a square matrix `F` and compute its determinant.\n",
    "\n",
    "F = np.random.randint(1, 10, size=(3, 3))  # 3x3 matrix\n",
    "\n",
    "# Compute determinant\n",
    "determinant = np.linalg.det(F)\n",
    "\n",
    "# Print results\n",
    "print(\"Matrix F:\\n\", F)\n",
    "print(\"Determinant of F:\\n\", determinant)\n"
   ]
  },
  {
   "cell_type": "code",
   "execution_count": 84,
   "id": "2747cdd0-7e6e-4acb-8af4-4d3d9819fcac",
   "metadata": {},
   "outputs": [
    {
     "name": "stdout",
     "output_type": "stream",
     "text": [
      "Matrix G:\n",
      " [[5 3 6]\n",
      " [3 7 4]\n",
      " [3 1 2]]\n",
      "Inverse of G:\n",
      " [[-0.25  0.    0.75]\n",
      " [-0.15  0.2   0.05]\n",
      " [ 0.45 -0.1  -0.65]]\n"
     ]
    }
   ],
   "source": [
    "# 85. Create a square matrix `G` and find its inverse.\n",
    "\n",
    "G = np.random.randint(1, 10, size=(3, 3))  # 3x3 matrix\n",
    "\n",
    "# Find inverse\n",
    "inverse = np.linalg.inv(G)\n",
    "\n",
    "# Print results\n",
    "print(\"Matrix G:\\n\", G)\n",
    "print(\"Inverse of G:\\n\", inverse)\n"
   ]
  }
 ],
 "metadata": {
  "kernelspec": {
   "display_name": "Python 3 (ipykernel)",
   "language": "python",
   "name": "python3"
  },
  "language_info": {
   "codemirror_mode": {
    "name": "ipython",
    "version": 3
   },
   "file_extension": ".py",
   "mimetype": "text/x-python",
   "name": "python",
   "nbconvert_exporter": "python",
   "pygments_lexer": "ipython3",
   "version": "3.12.4"
  }
 },
 "nbformat": 4,
 "nbformat_minor": 5
}
