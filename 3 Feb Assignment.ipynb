{
 "cells": [
  {
   "cell_type": "markdown",
   "id": "2b655813-d018-4602-97e3-19cc3d1f22cd",
   "metadata": {},
   "source": [
    "Q1. Which keyword is used to create a function? Create a function to return a list of odd numbers in the\n",
    "range of 1 to 25.\n",
    "\n",
    "Ans: def keyword is used to create function."
   ]
  },
  {
   "cell_type": "code",
   "execution_count": 1,
   "id": "8c0aa58b-94eb-4fb0-827c-54db4712e700",
   "metadata": {},
   "outputs": [
    {
     "data": {
      "text/plain": [
       "[1, 3, 5, 7, 9, 11, 13, 15, 17, 19, 21, 23, 25]"
      ]
     },
     "execution_count": 1,
     "metadata": {},
     "output_type": "execute_result"
    }
   ],
   "source": [
    "def odd():\n",
    "    lis=[]\n",
    "    for i in range(1,26):\n",
    "        if i%2!=0:\n",
    "            lis.append(i)\n",
    "    return lis\n",
    "\n",
    "odd()"
   ]
  },
  {
   "cell_type": "markdown",
   "id": "265d2367-85ce-48fd-8dad-7e31ae881d1f",
   "metadata": {
    "tags": []
   },
   "source": [
    "Q2. Why *args and **kwargs is used in some functions? Create a function each for *args and **kwargs to demonstrate their use.\n",
    "\n",
    "Ans. \n",
    "*args in function definitions is used to pass a variable number of arguments to a function. \n",
    "**kwargs in function definitions is used to pass a keyworded, variable-length argument list. "
   ]
  },
  {
   "cell_type": "code",
   "execution_count": 2,
   "id": "bd40f4be-e209-465f-940e-29cd82a28d29",
   "metadata": {},
   "outputs": [
    {
     "name": "stdout",
     "output_type": "stream",
     "text": [
      "Hello\n",
      "Welcome\n",
      "to\n",
      "Pwskills\n"
     ]
    }
   ],
   "source": [
    "#Example of *args\n",
    "\n",
    "def arg(*args):\n",
    "    for arg in args:\n",
    "        print(arg)\n",
    "\n",
    "arg('Hello', 'Welcome', 'to', 'Pwskills')"
   ]
  },
  {
   "cell_type": "code",
   "execution_count": 3,
   "id": "0f49225c-e029-4b6e-9cd3-8fb3271d74b4",
   "metadata": {},
   "outputs": [
    {
     "name": "stdout",
     "output_type": "stream",
     "text": [
      "first == This\n",
      "mid == is\n",
      "last == Pwskills\n"
     ]
    }
   ],
   "source": [
    "#Example of **kwargs\n",
    "\n",
    "def kwarg(arg1, **kwargs):\n",
    "    for key, value in kwargs.items():\n",
    "        print(\"%s == %s\" % (key, value))\n",
    "\n",
    "kwarg(\"Hi\", first='This', mid='is', last='Pwskills')"
   ]
  },
  {
   "cell_type": "markdown",
   "id": "82ff1ca6-6e2a-4cc7-9109-ef11f11270c7",
   "metadata": {},
   "source": [
    "Q3. What is an iterator in python? Name the method used to initialise the iterator object and the method used for iteration. Use these methods to print the first five elements of the given list \n",
    "\n",
    "[2, 4, 6, 8, 10, 12, 14, 16, 18, 20].\n",
    "\n",
    "Ans. Iterator is an object that can be iterated upon, meaning that you can traverse through all the values.\n",
    "\n",
    "Methods used for iteration are \n",
    "1. by using iter() and next().\n",
    "2. by using for loop."
   ]
  },
  {
   "cell_type": "code",
   "execution_count": 4,
   "id": "aecc242e-0ba8-4caa-ac08-8dd1dde23a2e",
   "metadata": {},
   "outputs": [
    {
     "name": "stdout",
     "output_type": "stream",
     "text": [
      "2\n",
      "4\n",
      "6\n",
      "8\n",
      "10\n"
     ]
    }
   ],
   "source": [
    "#by using iter() and next()\n",
    "\n",
    "l1 = [2,4,6,8,10,12,14,16,18,20]\n",
    "myit = iter(l1)\n",
    "\n",
    "print(next(myit))\n",
    "print(next(myit))\n",
    "print(next(myit))\n",
    "print(next(myit))\n",
    "print(next(myit))"
   ]
  },
  {
   "cell_type": "code",
   "execution_count": 5,
   "id": "86a9443e-bc49-401d-8752-b68d5cecbe20",
   "metadata": {},
   "outputs": [
    {
     "name": "stdout",
     "output_type": "stream",
     "text": [
      "2\n",
      "4\n",
      "6\n",
      "8\n",
      "10\n"
     ]
    }
   ],
   "source": [
    "#by usinf for loop\n",
    "\n",
    "l2=[2,4,6,8,10,12,14,16,18,20]\n",
    "\n",
    "for i in l2[:5]:\n",
    "    print(i)"
   ]
  },
  {
   "cell_type": "markdown",
   "id": "a9a97fbb-2380-4e06-b1cc-302a5fa7d1f9",
   "metadata": {},
   "source": [
    "Q4. What is a generator function in python? Why yield keyword is used? Give an example of a generator function.\n",
    "\n",
    "Ans. \n",
    "Python Generator functions allow you to declare a function that behaves like an iterator, making it a faster, cleaner and easier way to create an iterator. It can be used on an abstract container of data to turn it into an iterable object like lists, dictionaries and strings.\n",
    "\n",
    "\n",
    "Yield keyword is used to create a generator function. Yield keyword will turn any expression that is given with it into a generator object and return it to the caller. "
   ]
  },
  {
   "cell_type": "code",
   "execution_count": 6,
   "id": "228c9763-18a9-4a79-8055-0396382d9ae2",
   "metadata": {},
   "outputs": [
    {
     "name": "stdout",
     "output_type": "stream",
     "text": [
      "<class 'generator'>\n",
      "Hello world!!\n",
      "Pwskills\n"
     ]
    }
   ],
   "source": [
    "#Example of generator function\n",
    "\n",
    "def gen():\n",
    "    yield \"Hello world!!\"\n",
    "    yield \"Pwskills\"\n",
    "\n",
    "obj = gen()\n",
    "\n",
    "print(type(obj))\n",
    "print(next(obj))\n",
    "print(next(obj))"
   ]
  },
  {
   "cell_type": "markdown",
   "id": "cbfae608-a823-4834-9dff-f8a1a29ba04a",
   "metadata": {},
   "source": [
    "Q5. Create a generator function for prime numbers less than 1000. Use the next() method to print the first 20 prime numbers."
   ]
  },
  {
   "cell_type": "code",
   "execution_count": 93,
   "id": "b79592d1-d3c6-468f-95b3-5219363a9eb7",
   "metadata": {},
   "outputs": [
    {
     "name": "stdout",
     "output_type": "stream",
     "text": [
      "2\n",
      "3\n",
      "5\n",
      "7\n",
      "11\n",
      "13\n",
      "17\n",
      "19\n",
      "23\n",
      "29\n",
      "31\n",
      "37\n",
      "41\n",
      "43\n",
      "47\n",
      "53\n",
      "59\n",
      "61\n",
      "67\n",
      "71\n"
     ]
    }
   ],
   "source": [
    "def primes():\n",
    "    primes_list=[]\n",
    "    for i in range(2, 1000):\n",
    "        is_prime = True\n",
    "        for prime in primes_list:\n",
    "            if i % prime == 0:\n",
    "                is_prime = False\n",
    "                break\n",
    "        if is_prime:\n",
    "            primes_list.append(i)\n",
    "            yield i\n",
    "\n",
    "prime = primes()\n",
    "for i in range(20):\n",
    "    print(next(prime))"
   ]
  },
  {
   "cell_type": "markdown",
   "id": "131528ca-41b1-4dd6-9ecc-1397d9596ca4",
   "metadata": {},
   "source": [
    "Q6. Write a python program to print the first 10 Fibonacci numbers using a while loop."
   ]
  },
  {
   "cell_type": "code",
   "execution_count": 95,
   "id": "95843736-b5d9-4d20-8a10-884d9aa9dce2",
   "metadata": {},
   "outputs": [
    {
     "name": "stdout",
     "output_type": "stream",
     "text": [
      "0\n",
      "1\n",
      "1\n",
      "2\n",
      "3\n",
      "5\n",
      "8\n",
      "13\n",
      "21\n",
      "34\n"
     ]
    }
   ],
   "source": [
    "def fibonacci(n):\n",
    "    fir, sec = 0, 1\n",
    "    count = 0\n",
    "    while count < n:\n",
    "        print(fir)\n",
    "        fir, sec = sec, fir  + sec\n",
    "        count= count+ 1\n",
    "\n",
    "fibonacci(10)"
   ]
  },
  {
   "cell_type": "markdown",
   "id": "e176555a-92c5-4e70-aa7d-7f48677b9bbc",
   "metadata": {},
   "source": [
    "Q7. Write a List Comprehension to iterate through the given string: ‘pwskills’.\n",
    "\n",
    "\n",
    "Expected output: ['p', 'w', 's', 'k', 'i', 'l', 'l', 's']\n"
   ]
  },
  {
   "cell_type": "code",
   "execution_count": 107,
   "id": "63c48473-9111-4814-9360-15f98b2f7efe",
   "metadata": {},
   "outputs": [
    {
     "name": "stdout",
     "output_type": "stream",
     "text": [
      "['p', 'w', 's', 'k', 'i', 'l', 'l', 's']\n"
     ]
    }
   ],
   "source": [
    "str = 'pwskills'\n",
    "str2=[i for i in str]\n",
    "print(str2)"
   ]
  },
  {
   "cell_type": "markdown",
   "id": "b361e56f-8769-4bc2-8e8c-5f9f0f4e61ce",
   "metadata": {},
   "source": [
    "Q8. Write a python program to check whether a given number is Palindrome or not using a while loop.\n"
   ]
  },
  {
   "cell_type": "code",
   "execution_count": 115,
   "id": "64a97a57-5ed5-49ad-80ab-10b915de407c",
   "metadata": {},
   "outputs": [
    {
     "name": "stdin",
     "output_type": "stream",
     "text": [
      "Enter a number: 1\n"
     ]
    },
    {
     "name": "stdout",
     "output_type": "stream",
     "text": [
      "The number is palindrome\n"
     ]
    }
   ],
   "source": [
    "num=int(input(\"Enter a number:\"))\n",
    "temp=num\n",
    "rev=0\n",
    "while(num>0):\n",
    "    dig=num%10\n",
    "    rev=rev*10+dig\n",
    "    num=num//10\n",
    "if(temp==rev):\n",
    "    print(\"The number is palindrome\")\n",
    "else:\n",
    "    print(\"Not a palindrome\")"
   ]
  },
  {
   "cell_type": "markdown",
   "id": "dd7eb06d-5abb-4f4d-b7d2-8f2c9b4eed59",
   "metadata": {},
   "source": [
    "Q9. Write a code to print odd numbers from 1 to 100 using list comprehension.\n",
    "Note: Use a list comprehension to create a list from 1 to 100 and use another List comprehension to filter\n",
    "out odd numbers."
   ]
  },
  {
   "cell_type": "code",
   "execution_count": 124,
   "id": "793d7e3b-ff7a-4b2b-9e0f-c484d9d74621",
   "metadata": {},
   "outputs": [
    {
     "name": "stdout",
     "output_type": "stream",
     "text": [
      "[1, 3, 5, 7, 9, 11, 13, 15, 17, 19, 21, 23, 25, 27, 29, 31, 33, 35, 37, 39, 41, 43, 45, 47, 49, 51, 53, 55, 57, 59, 61, 63, 65, 67, 69, 71, 73, 75, 77, 79, 81, 83, 85, 87, 89, 91, 93, 95, 97, 99]\n"
     ]
    }
   ],
   "source": [
    "odd= [i for i in range (1,100) if i%2!=0]\n",
    "print(odd)\n",
    "        "
   ]
  }
 ],
 "metadata": {
  "kernelspec": {
   "display_name": "Python 3 (ipykernel)",
   "language": "python",
   "name": "python3"
  },
  "language_info": {
   "codemirror_mode": {
    "name": "ipython",
    "version": 3
   },
   "file_extension": ".py",
   "mimetype": "text/x-python",
   "name": "python",
   "nbconvert_exporter": "python",
   "pygments_lexer": "ipython3",
   "version": "3.10.8"
  }
 },
 "nbformat": 4,
 "nbformat_minor": 5
}
