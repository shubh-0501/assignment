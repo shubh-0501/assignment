{
 "cells": [
  {
   "cell_type": "markdown",
   "id": "3c6ba523-5388-42a9-acbc-6be9fd501626",
   "metadata": {},
   "source": [
    "# 1. Write a code to reverse a string."
   ]
  },
  {
   "cell_type": "code",
   "execution_count": 1,
   "id": "8a9a55d0-e3d7-43fc-afa9-aef4720ee9e6",
   "metadata": {},
   "outputs": [
    {
     "name": "stdin",
     "output_type": "stream",
     "text": [
      "Enter the string:  shubham\n"
     ]
    },
    {
     "name": "stdout",
     "output_type": "stream",
     "text": [
      "mahbuhs\n"
     ]
    }
   ],
   "source": [
    "string_1=input(\"Enter the string: \")\n",
    "print(string_1[::-1])"
   ]
  },
  {
   "cell_type": "markdown",
   "id": "6f1b884e-ee15-41ee-bee3-0f7af8ebfd9d",
   "metadata": {},
   "source": [
    "# 2. Write a code to count the number of vowels in a string."
   ]
  },
  {
   "cell_type": "code",
   "execution_count": 2,
   "id": "0ea5c17f-3a13-4a72-80d4-f216cef1c585",
   "metadata": {},
   "outputs": [
    {
     "name": "stdin",
     "output_type": "stream",
     "text": [
      "Enter the string:  shubham sharma\n"
     ]
    },
    {
     "name": "stdout",
     "output_type": "stream",
     "text": [
      "Number of Vowels in the string 4\n"
     ]
    }
   ],
   "source": [
    "string_2=input(\"Enter the string: \")\n",
    "lower_strinng2=string_2.lower()\n",
    "count=0\n",
    "for i in lower_strinng2:\n",
    "    if i=='a' or i=='e' or i=='i' or i=='o' or i=='u':\n",
    "        count=count+1\n",
    "print(f\"Number of Vowels in the string {count}\")"
   ]
  },
  {
   "cell_type": "markdown",
   "id": "754a38da-77d9-4e8d-8e0b-fcf3b1e118ec",
   "metadata": {},
   "source": [
    "# 3. Write a code to check if a given string is palindrome or not."
   ]
  },
  {
   "cell_type": "code",
   "execution_count": 3,
   "id": "e1aa7d03-a9ed-48f0-9df4-9d764d3f29a1",
   "metadata": {},
   "outputs": [
    {
     "name": "stdin",
     "output_type": "stream",
     "text": [
      "Enter the string:  abcba\n"
     ]
    },
    {
     "name": "stdout",
     "output_type": "stream",
     "text": [
      "Palindrome\n"
     ]
    }
   ],
   "source": [
    "string_3=input(\"Enter the string: \").lower()\n",
    "reverse=string_3[::-1]\n",
    "if string_3==reverse:\n",
    "    print(\"Palindrome\")\n",
    "else:\n",
    "    print(\"Not Palindrome\")"
   ]
  },
  {
   "cell_type": "markdown",
   "id": "784ae738-a89c-40c2-99f4-f97339df8bb4",
   "metadata": {},
   "source": [
    "# 4. Write a code to check if two given strings are anagrams of each other."
   ]
  },
  {
   "cell_type": "code",
   "execution_count": 4,
   "id": "e567e35e-716a-408b-a748-71621888bfe6",
   "metadata": {},
   "outputs": [
    {
     "name": "stdin",
     "output_type": "stream",
     "text": [
      "Enter the string:  listen\n",
      "Enter the string:  silent\n"
     ]
    },
    {
     "name": "stdout",
     "output_type": "stream",
     "text": [
      "Anagrams\n"
     ]
    }
   ],
   "source": [
    "string_4=input(\"Enter the string: \").lower()\n",
    "string_5=input(\"Enter the string: \").lower()\n",
    "list4=sorted([i for i in string_4])\n",
    "list5=sorted([i for i in string_5])\n",
    "if list4==list5:\n",
    "    print(\"Anagrams\")\n",
    "else:\n",
    "    print(\"Not Anagrams\")"
   ]
  },
  {
   "cell_type": "markdown",
   "id": "f3ebd705-d462-40d7-bd00-251f9a8a21fc",
   "metadata": {},
   "source": [
    "# 5. Write a code to find all occurences of a given substring within another string."
   ]
  },
  {
   "cell_type": "code",
   "execution_count": 5,
   "id": "d354c8f7-d758-4432-9e4c-16b39549b9bc",
   "metadata": {},
   "outputs": [
    {
     "name": "stdin",
     "output_type": "stream",
     "text": [
      "Enter the string:  shshshshubhashu\n",
      "Enter the sub-string:  sh\n"
     ]
    },
    {
     "name": "stdout",
     "output_type": "stream",
     "text": [
      "Occurance: [0, 2, 4, 6, 12]\n"
     ]
    }
   ],
   "source": [
    "main_string=input(\"Enter the string: \").lower()\n",
    "sub_string=input(\"Enter the sub-string: \").lower()\n",
    "occurance=[]\n",
    "start=0\n",
    "while True:\n",
    "    start=main_string.find(sub_string,start)\n",
    "    if start==-1:\n",
    "        break\n",
    "    occurance.append(start)\n",
    "    start+=1\n",
    "print(\"Occurance:\",occurance)"
   ]
  },
  {
   "cell_type": "markdown",
   "id": "7b415555-72fa-43dc-8a6f-b492aed2d38b",
   "metadata": {},
   "source": [
    "# 6. Write a code to perform basic string compression using the counts of repeated characters."
   ]
  },
  {
   "cell_type": "code",
   "execution_count": 6,
   "id": "5f8c2c1e-418b-4f49-84e4-7bfaf3b7d0a5",
   "metadata": {},
   "outputs": [
    {
     "name": "stdin",
     "output_type": "stream",
     "text": [
      "Enter the string:  aabbccddee\n"
     ]
    },
    {
     "name": "stdout",
     "output_type": "stream",
     "text": [
      "a2b2c2d2\n"
     ]
    }
   ],
   "source": [
    "def count_repeated_characters(string):\n",
    "    str_final=[]\n",
    "    count=1\n",
    "    previous_char=string[0]\n",
    "    for i in string[1::]:\n",
    "        if i==previous_char:\n",
    "            count=count+1\n",
    "        else:\n",
    "            str_final.append(previous_char+str(count))\n",
    "            previous_char=i\n",
    "            count=1\n",
    "    compressed=\"\".join(str_final)\n",
    "    return compressed\n",
    "string6=input(\"Enter the string: \")\n",
    "result=count_repeated_characters(string6)\n",
    "print(result)"
   ]
  },
  {
   "cell_type": "markdown",
   "id": "940c2ca7-223f-4833-a41d-9551e89bb18a",
   "metadata": {},
   "source": [
    "# 7. Write a code to determine if a string has all unique character or not"
   ]
  },
  {
   "cell_type": "code",
   "execution_count": 7,
   "id": "3de4f65e-7220-425b-8638-4683b23f3aa5",
   "metadata": {},
   "outputs": [
    {
     "name": "stdin",
     "output_type": "stream",
     "text": [
      "Enter the string:  shubham\n"
     ]
    },
    {
     "name": "stdout",
     "output_type": "stream",
     "text": [
      "All the character are not unique\n"
     ]
    }
   ],
   "source": [
    "str7=input(\"Enter the string: \").lower()\n",
    "list7=[i for i in str7]\n",
    "new_list=list(set(list7))\n",
    "if len(list7)==len(new_list):\n",
    "    print(\"All the character are unique\")\n",
    "else:\n",
    "    print(\"All the character are not unique\")"
   ]
  },
  {
   "cell_type": "markdown",
   "id": "15e4d061-9103-4b08-8a53-c793b7bef76d",
   "metadata": {},
   "source": [
    "# 8.Write a code to convert a given string to uppercase or lowercase."
   ]
  },
  {
   "cell_type": "code",
   "execution_count": 8,
   "id": "220efb21-8da6-40e6-95e0-6e81f4ebce8e",
   "metadata": {},
   "outputs": [
    {
     "name": "stdin",
     "output_type": "stream",
     "text": [
      "Enter the string:  pwskills\n"
     ]
    },
    {
     "name": "stdout",
     "output_type": "stream",
     "text": [
      "Uppercase:  pwskills\n",
      "Lowercase:  PWSKILLS\n"
     ]
    }
   ],
   "source": [
    "string8=input(\"Enter the string: \")\n",
    "print(\"Uppercase: \",string8.lower())\n",
    "print(\"Lowercase: \",string8.upper())"
   ]
  },
  {
   "cell_type": "markdown",
   "id": "158d8adf-751f-4c25-8ae9-2a3738e6a93e",
   "metadata": {},
   "source": [
    "# 9. Write a code to count the number of words in the string."
   ]
  },
  {
   "cell_type": "code",
   "execution_count": 9,
   "id": "af8b7620-b9ad-471f-a995-561e3f7b5fe9",
   "metadata": {},
   "outputs": [
    {
     "name": "stdin",
     "output_type": "stream",
     "text": [
      "Enter the Sentence:  I am learning at pwskills\n"
     ]
    },
    {
     "name": "stdout",
     "output_type": "stream",
     "text": [
      "Number of words in entered sentence are:  5\n"
     ]
    }
   ],
   "source": [
    "string9=input(\"Enter the Sentence: \").split()\n",
    "print(\"Number of words in entered sentence are: \",len(string9))"
   ]
  },
  {
   "cell_type": "markdown",
   "id": "7b9aace0-60f1-474d-bb23-c177c4c3cd4d",
   "metadata": {},
   "source": [
    "# 10. Write a code to concatenate two strings without using + operator."
   ]
  },
  {
   "cell_type": "code",
   "execution_count": 10,
   "id": "92433eb8-a4c4-4948-a944-50b003264ebe",
   "metadata": {},
   "outputs": [
    {
     "name": "stdin",
     "output_type": "stream",
     "text": [
      "Enter first string:  pw\n",
      "Enter second string:  skills\n"
     ]
    },
    {
     "name": "stdout",
     "output_type": "stream",
     "text": [
      "Concatenated string:  pwskills\n"
     ]
    }
   ],
   "source": [
    "string_10=input(\"Enter first string: \")\n",
    "string10=input(\"Enter second string: \")\n",
    "new_string=''.join([string_10,string10])\n",
    "print(\"Concatenated string: \",new_string)"
   ]
  },
  {
   "cell_type": "markdown",
   "id": "e18f1066-7180-4729-bfe4-1cca5e34240c",
   "metadata": {},
   "source": [
    "# 11. Write a code to remove all the occurances of a specific element from a list."
   ]
  },
  {
   "cell_type": "code",
   "execution_count": 11,
   "id": "8c0d2f70-41cc-49b1-bdfe-cacfe4f56b6a",
   "metadata": {},
   "outputs": [
    {
     "name": "stdin",
     "output_type": "stream",
     "text": [
      "Enter the elements you want to enter in the list:  5\n",
      "Enter element nuumber 1 in the list:  1\n",
      "Enter element nuumber 2 in the list:  2\n",
      "Enter element nuumber 3 in the list:  3\n",
      "Enter element nuumber 4 in the list:  4\n",
      "Enter element nuumber 5 in the list:  5\n",
      "Enter the element you want to remove from the list:  3\n"
     ]
    },
    {
     "name": "stdout",
     "output_type": "stream",
     "text": [
      "Updated List:  ['1', '2', '4', '5']\n"
     ]
    }
   ],
   "source": [
    "num=int(input(\"Enter the elements you want to enter in the list: \"))\n",
    "list_1=[]\n",
    "for i in range(0,num):\n",
    "    element_list=input(f\"Enter element nuumber {i+1} in the list: \")\n",
    "    list_1.append(element_list)\n",
    "ele=input(\"Enter the element you want to remove from the list: \")\n",
    "list_1=[x for x in list_1 if x != ele]\n",
    "print(\"Updated List: \",list_1)"
   ]
  },
  {
   "cell_type": "markdown",
   "id": "5b30a153-de87-4b0d-a1b9-94c3e87d9699",
   "metadata": {},
   "source": [
    "# 12. Implement a code to find the second largest number in a given list of integers. "
   ]
  },
  {
   "cell_type": "code",
   "execution_count": 12,
   "id": "6b2e8a7f-d1d9-4c04-85a1-d6c61c7245da",
   "metadata": {},
   "outputs": [
    {
     "name": "stdout",
     "output_type": "stream",
     "text": [
      "Second largest number is the [2, 4, 32, 54, 342, 213, 54, 67, 22, 2, 4, 6, 87] is: 213\n"
     ]
    }
   ],
   "source": [
    "list12=[2,4,32,54,342,213,54,67,22,2,4,6,87]\n",
    "newlist=list(sorted(set(list12)))\n",
    "print(f\"Second largest number is the {list12} is:\",newlist[-2])"
   ]
  },
  {
   "cell_type": "markdown",
   "id": "de274a82-0efd-4f14-9ad9-8c86e41c9828",
   "metadata": {},
   "source": [
    "# 13. Create a code to count the occurances of each element in a list and retur a dictionary with elements as keys and their count as values."
   ]
  },
  {
   "cell_type": "code",
   "execution_count": 13,
   "id": "66580562-85f1-4740-a1d6-2db1bdfce4b4",
   "metadata": {},
   "outputs": [
    {
     "name": "stdout",
     "output_type": "stream",
     "text": [
      "{True: 1, 2: 2, 4: 2, 6: 2, 7: 1, 8: 1, 9: 1, 'b': 1, 55: 1, 'a': 1}\n"
     ]
    }
   ],
   "source": [
    "list13=[2,2,4,4,55,6,8,7,6,9,'a','b',True]\n",
    "keys_list=list(set(list13))\n",
    "dictionary={}\n",
    "count=0\n",
    "for i in keys_list:\n",
    "    for j in list13:\n",
    "        if i==j:\n",
    "            count=count+1\n",
    "    dictionary.update({i:count})\n",
    "    count=0\n",
    "print(dictionary)"
   ]
  },
  {
   "cell_type": "markdown",
   "id": "65473175-fd19-4b75-9541-eea8f6d0e256",
   "metadata": {},
   "source": [
    "# 14. Write a code to reverse a list in place without using any built-in reverse functions. "
   ]
  },
  {
   "cell_type": "code",
   "execution_count": 22,
   "id": "1679f773-8cf8-4af9-8f76-8154a6ae9fb3",
   "metadata": {},
   "outputs": [
    {
     "name": "stdout",
     "output_type": "stream",
     "text": [
      "[9, 8, 7, 6, 5, 4, 3, 2, 1]\n"
     ]
    }
   ],
   "source": [
    "list14=[1,2,3,4,5,6,7,8,9]\n",
    "list14=list14[::-1]\n",
    "print(list14)"
   ]
  },
  {
   "cell_type": "markdown",
   "id": "fa8849cd-f549-4017-ae6d-d0867f6aa7a3",
   "metadata": {},
   "source": [
    "# 15.Implement a code to find and remove duplicates from a list while preserving the original order of elements."
   ]
  },
  {
   "cell_type": "code",
   "execution_count": 14,
   "id": "4322156b-1734-417a-906e-6fd21921c83a",
   "metadata": {},
   "outputs": [
    {
     "name": "stdout",
     "output_type": "stream",
     "text": [
      "[9, 8, 4, 7, 2, 3, 5, 1]\n"
     ]
    }
   ],
   "source": [
    "list15=[9,8,9,4,4,7,2,3,5,3,5,7,1]\n",
    "seen=set()\n",
    "result=[]\n",
    "for i in list15:\n",
    "    if i not in seen:\n",
    "        seen.add(i)\n",
    "        result.append(i)\n",
    "print(result)"
   ]
  },
  {
   "cell_type": "markdown",
   "id": "a7798612-dc15-4b41-9123-b1d0c84f1a18",
   "metadata": {},
   "source": [
    "# 16. Create a code to check if a given list is sorted (either ascending or descending order) or not."
   ]
  },
  {
   "cell_type": "code",
   "execution_count": 15,
   "id": "37a83af1-5be5-4394-ad83-3db1dcc2ff23",
   "metadata": {},
   "outputs": [
    {
     "name": "stdout",
     "output_type": "stream",
     "text": [
      "List is not sorted\n"
     ]
    }
   ],
   "source": [
    "list16=[1,2,3,4,5,2,1]\n",
    "if list16==sorted(list16) or list16==sorted(list16,reverse=True):\n",
    "    print(\"List is sorted\")\n",
    "else:\n",
    "    print(\"List is not sorted\")"
   ]
  },
  {
   "cell_type": "markdown",
   "id": "8b469041-fdba-4ad1-b031-ae3663b9f66b",
   "metadata": {},
   "source": [
    "# 17. Write a code to merge two sorted lists into a single sorted lists. "
   ]
  },
  {
   "cell_type": "code",
   "execution_count": 16,
   "id": "6377fa4f-d27f-4be4-b2b8-5517578c670d",
   "metadata": {},
   "outputs": [
    {
     "name": "stdout",
     "output_type": "stream",
     "text": [
      "Merged sorted list:  [1, 1, 2, 3, 3, 4, 4, 5, 6, 6, 7, 8, 9]\n"
     ]
    }
   ],
   "source": [
    "list17=[1,2,3,4,5,6,7]\n",
    "list_17=[1,3,4,6,8,9]\n",
    "new_list=sorted(list17+list_17)\n",
    "print(\"Merged sorted list: \",new_list)"
   ]
  },
  {
   "cell_type": "markdown",
   "id": "b003de77-a7ab-4f01-a172-b325d7d210d5",
   "metadata": {},
   "source": [
    "# 18. Implement a code to find the intersection of two given lists."
   ]
  },
  {
   "cell_type": "code",
   "execution_count": 17,
   "id": "ae2c9cfd-db8b-4c2a-a980-7e461d583eb8",
   "metadata": {},
   "outputs": [
    {
     "name": "stdout",
     "output_type": "stream",
     "text": [
      "Intersection of given two lists are:  [1, 3, 4, 5, 6]\n"
     ]
    }
   ],
   "source": [
    "list18=[1,2,3,4,5,6,7,8,9]\n",
    "list_18=[1,3,4,5,6,12,47]\n",
    "print(\"Intersection of given two lists are: \",list(set(list18)&set(list_18)))"
   ]
  },
  {
   "cell_type": "markdown",
   "id": "27d0e991-c2c2-483b-bab7-0e5aefdec335",
   "metadata": {},
   "source": [
    "# 19. Create a code to find the union of two lists without duplicates."
   ]
  },
  {
   "cell_type": "code",
   "execution_count": 18,
   "id": "1e4534df-1565-442e-b26f-632d85f8d7d5",
   "metadata": {},
   "outputs": [
    {
     "name": "stdout",
     "output_type": "stream",
     "text": [
      "Union of given two lists are:  [1, 2, 3, 4, 5, 6, 7, 8, 9, 12, 47]\n"
     ]
    }
   ],
   "source": [
    "list18=[1,2,3,4,5,6,7,8,9]\n",
    "list_18=[1,3,4,5,6,12,47]\n",
    "print(\"Union of given two lists are: \",list(set(list18)| set(list_18)))"
   ]
  },
  {
   "cell_type": "markdown",
   "id": "441e176e-2b8b-468e-8659-7d98828c9300",
   "metadata": {},
   "source": [
    "# 20. Write a code to shuffle a given list randomly without using any built-in shuffle functions."
   ]
  },
  {
   "cell_type": "code",
   "execution_count": 19,
   "id": "703f7178-262d-4468-a52f-5005c35c1154",
   "metadata": {},
   "outputs": [
    {
     "name": "stdout",
     "output_type": "stream",
     "text": [
      "[2, 3, 1, 5, 4]\n"
     ]
    }
   ],
   "source": [
    "import random\n",
    "\n",
    "my_list = [1, 2, 3, 4, 5]\n",
    "for i in range(len(my_list)-1,0,-1):\n",
    "            j=random.randint(0,i)\n",
    "            my_list[i], my_list[j] = my_list[j], my_list[i]\n",
    "print(my_list) "
   ]
  },
  {
   "cell_type": "markdown",
   "id": "6302f2f7-ef54-4e01-8a38-b9306f8894c3",
   "metadata": {},
   "source": [
    "# 21. Write a code that takes two tuples as input and returns a new tuple containing elements that are common to both the inputs."
   ]
  },
  {
   "cell_type": "code",
   "execution_count": 20,
   "id": "47cd9e17-9160-440c-b7d4-fcdc6be9e2dc",
   "metadata": {},
   "outputs": [
    {
     "name": "stdin",
     "output_type": "stream",
     "text": [
      "Enter the tuple 1 seperated by ',': 1,2,3,4,5,6\n",
      "Enter the tuple 2 seperated by ',': 4,5,6,8,9\n"
     ]
    },
    {
     "name": "stdout",
     "output_type": "stream",
     "text": [
      "Tuple containing elements that are common to both the inputs:  ('4', '5', '6')\n"
     ]
    }
   ],
   "source": [
    "input_21=input(\"Enter the tuple 1 seperated by ',':\")\n",
    "tuple_input1=tuple(input_21.split(','))\n",
    "input21=input(\"Enter the tuple 2 seperated by ',':\")\n",
    "tuple_input2=tuple(input21.split(','))\n",
    "new_tuple=()\n",
    "for i in tuple_input1:\n",
    "    for j in tuple_input2:\n",
    "        if i==j:\n",
    "            new_tuple=new_tuple+tuple(j)\n",
    "print(\"Tuple containing elements that are common to both the inputs: \",new_tuple)"
   ]
  },
  {
   "cell_type": "markdown",
   "id": "00db3bef-675c-4eef-993b-15aaf26d9af5",
   "metadata": {},
   "source": [
    "# 22.Create a code that prompts the user to enter two sets of integers seperated by commas. Then, Print intersection of these two."
   ]
  },
  {
   "cell_type": "code",
   "execution_count": 21,
   "id": "2722a196-acf9-4905-83d8-6df208155fa8",
   "metadata": {},
   "outputs": [
    {
     "name": "stdin",
     "output_type": "stream",
     "text": [
      "Enter the set 1 seperated by ',' 1,2,3,4,5,6\n",
      "Enter the set 2 seperated by ',' 2,3,4,6\n"
     ]
    },
    {
     "name": "stdout",
     "output_type": "stream",
     "text": [
      "Intersection of set 1 and set 2:  {'4', '3', '2', '6'}\n"
     ]
    }
   ],
   "source": [
    "input22=input(\"Enter the set 1 seperated by ','\")\n",
    "set1=set(input22.split(','))\n",
    "input22=input(\"Enter the set 2 seperated by ','\")\n",
    "set2=set(input22.split(','))\n",
    "print(\"Intersection of set 1 and set 2: \",set1 & set2)"
   ]
  },
  {
   "cell_type": "markdown",
   "id": "20c70029-c31d-4547-851d-e71b0c20e90a",
   "metadata": {},
   "source": [
    "# 23. Write a code to concatenate two tuples. The function should take two tuples as input and return a new tuple containing elements from both the input tuples."
   ]
  },
  {
   "cell_type": "code",
   "execution_count": 22,
   "id": "95127a0e-6978-4095-94da-fdb1fe1db3e5",
   "metadata": {},
   "outputs": [
    {
     "name": "stdin",
     "output_type": "stream",
     "text": [
      "Enter the tuple 1 seperated by ',': 1,2,3,4,5,6\n",
      "Enter the tuple 2 seperated by ',': 7,8,9,10\n"
     ]
    },
    {
     "name": "stdout",
     "output_type": "stream",
     "text": [
      "New Tuple:  ('1', '2', '3', '4', '5', '6', '7', '8', '9', '10')\n"
     ]
    }
   ],
   "source": [
    "input_23=input(\"Enter the tuple 1 seperated by ',':\")\n",
    "tuple_input1=tuple(input_23.split(','))\n",
    "input_23=input(\"Enter the tuple 2 seperated by ',':\")\n",
    "tuple_input2=tuple(input_23.split(','))\n",
    "new_tuple=tuple_input1+tuple_input2\n",
    "print(\"New Tuple: \",new_tuple)"
   ]
  },
  {
   "cell_type": "markdown",
   "id": "c0dacc2c-6ad2-4039-a3a5-7ec7c9a89b9e",
   "metadata": {},
   "source": [
    "# 24. Develop a code that prompts the user to input two sets of strings. Then, print the elements that are present in the first set but not in the second list."
   ]
  },
  {
   "cell_type": "code",
   "execution_count": 23,
   "id": "5144139f-e2b3-4894-8d53-910a26deef9a",
   "metadata": {},
   "outputs": [
    {
     "name": "stdin",
     "output_type": "stream",
     "text": [
      "Enter the set 1 seperated by ',' 1,2,3,4,5,6\n",
      "Enter the set 2 seperated by ',' 4,5,6,7\n"
     ]
    },
    {
     "name": "stdout",
     "output_type": "stream",
     "text": [
      "{'3', '2', '1'}\n"
     ]
    }
   ],
   "source": [
    "input_24=input(\"Enter the set 1 seperated by ','\")\n",
    "set_24=set(input_24.split(','))\n",
    "input_24=input(\"Enter the set 2 seperated by ','\")\n",
    "set24=set(input_24.split(','))\n",
    "new_set=set_24-set24\n",
    "print(new_set)"
   ]
  },
  {
   "cell_type": "markdown",
   "id": "9f9e786a-b6b0-45dd-bac7-e877ae933983",
   "metadata": {},
   "source": [
    "# 25. Create a code that takes a tuple and integers as input. The function should return a new tuple containing elements from the original tuple within a specified range of indices."
   ]
  },
  {
   "cell_type": "code",
   "execution_count": 24,
   "id": "80bc2480-4bfe-488d-9790-479ff351f3ef",
   "metadata": {},
   "outputs": [
    {
     "name": "stdin",
     "output_type": "stream",
     "text": [
      "Enter tuple seperated by ',':  0,1,2,3,4,5,6,7,8,9\n",
      "Enter the start index:  5\n",
      "Enter the end index:  8\n"
     ]
    },
    {
     "name": "stdout",
     "output_type": "stream",
     "text": [
      "Tuple from index 5 to 8 is   ('5', '6', '7')\n"
     ]
    }
   ],
   "source": [
    "def tuple_range(main_tuple,start,end):\n",
    "    return main_tuple[start:end]\n",
    "\n",
    "input_25=input(\"Enter tuple seperated by ',': \")\n",
    "tuple25=tuple(input_25.split(','))\n",
    "start=int(input(\"Enter the start index: \"))\n",
    "end=int(input(\"Enter the end index: \"))\n",
    "print(f\"Tuple from index {start} to {end} is  \",tuple_range(tuple25,start,end))"
   ]
  },
  {
   "cell_type": "markdown",
   "id": "4b0237e1-ebb2-49d8-9231-27a9b7fa548c",
   "metadata": {},
   "source": [
    "# 26. Write a code that prompts the user to input two sets of characters. Then, print the union of these two sets. "
   ]
  },
  {
   "cell_type": "code",
   "execution_count": 25,
   "id": "cfb77d91-8f32-4594-b593-a311b6e0ae8a",
   "metadata": {},
   "outputs": [
    {
     "name": "stdin",
     "output_type": "stream",
     "text": [
      "Enter the set 1 characters seperated by ',':  1,2,3,4,5\n",
      "Enter the set 2 characters seperated by ',':  4,5,7,8,9\n"
     ]
    },
    {
     "name": "stdout",
     "output_type": "stream",
     "text": [
      "Union of {'4', '5', '1', '2', '3'} and {'4', '5', '9', '8', '7'} is  {'4', '5', '1', '9', '8', '2', '7', '3'}\n"
     ]
    }
   ],
   "source": [
    "input_26=input(\"Enter the set 1 characters seperated by ',': \")\n",
    "set_1=set(input_26.split(','))\n",
    "input_26=input(\"Enter the set 2 characters seperated by ',': \")\n",
    "set_2=set(input_26.split(','))\n",
    "print(f\"Union of {set_1} and {set_2} is \",set_1|set_2)"
   ]
  },
  {
   "cell_type": "markdown",
   "id": "f8403949-0af8-4b00-b184-2c73056265f6",
   "metadata": {},
   "source": [
    "# 27. Develop a code that takes a tuple of integers as input. The function should return the maximum and minimum values from the tuple using tuple unpacking."
   ]
  },
  {
   "cell_type": "code",
   "execution_count": 26,
   "id": "48f1153b-30bc-4727-8372-186213ef2a28",
   "metadata": {},
   "outputs": [
    {
     "name": "stdin",
     "output_type": "stream",
     "text": [
      "Enter the tuple seperated by ',':  1,2,3,4,5,6,7,8,9\n"
     ]
    },
    {
     "name": "stdout",
     "output_type": "stream",
     "text": [
      "Minimum number: 1 and Maximum number: 9\n"
     ]
    }
   ],
   "source": [
    "def min_max(tuple_list):\n",
    "    list_1=list(tuple_list)\n",
    "    list_1=sorted(list_1)\n",
    "    print(f\"Minimum number: {list_1[0]} and Maximum number: {list_1[-1]}\")\n",
    "          \n",
    "input_27=input(\"Enter the tuple seperated by ',': \")\n",
    "tuple_27=tuple(int(element.strip()) for element in input_27.split(\",\"))\n",
    "min_max(tuple_27)"
   ]
  },
  {
   "cell_type": "markdown",
   "id": "85d863ab-7315-4d86-ba5f-ffc21cf0d606",
   "metadata": {},
   "source": [
    "# 28. Create a code that defines two sets of integers. Then print the union, intersection and difference of these two sets."
   ]
  },
  {
   "cell_type": "code",
   "execution_count": 27,
   "id": "630f90da-997f-469f-8052-39aaae2c4aec",
   "metadata": {},
   "outputs": [
    {
     "name": "stdin",
     "output_type": "stream",
     "text": [
      "Enter set 1 seperated by ',':  1,2,3,4,5\n",
      "Enter set 2 seperated by ',':  4,5,6,7,8,9\n"
     ]
    },
    {
     "name": "stdout",
     "output_type": "stream",
     "text": [
      "Union of {1, 2, 3, 4, 5} and {4, 5, 6, 7, 8, 9} is  {1, 2, 3, 4, 5, 6, 7, 8, 9}\n",
      "Intersection of {1, 2, 3, 4, 5} and {4, 5, 6, 7, 8, 9} is  {4, 5}\n",
      "Difference of {1, 2, 3, 4, 5} and {4, 5, 6, 7, 8, 9} is  {1, 2, 3}\n",
      "Difference of {4, 5, 6, 7, 8, 9} and {1, 2, 3, 4, 5} is  {8, 9, 6, 7}\n"
     ]
    }
   ],
   "source": [
    "input28=input(\"Enter set 1 seperated by ',': \")\n",
    "set1=set(int(element.strip()) for element in input28.split(\",\"))\n",
    "input28=input(\"Enter set 2 seperated by ',': \")\n",
    "set2=set(int(element.strip()) for element in input28.split(\",\"))\n",
    "\n",
    "print(f\"Union of {set1} and {set2} is \",set1|set2)\n",
    "print(f\"Intersection of {set1} and {set2} is \",set1&set2)\n",
    "print(f\"Difference of {set1} and {set2} is \",set1-set2)\n",
    "print(f\"Difference of {set2} and {set1} is \",set2-set1)"
   ]
  },
  {
   "cell_type": "markdown",
   "id": "28dc2f78-8513-4296-b093-0c5402d0217b",
   "metadata": {},
   "source": [
    "# 29. Write a code that takes a tuple and an element as input. The function should return the count of occurances of the given element in the tuple."
   ]
  },
  {
   "cell_type": "code",
   "execution_count": 29,
   "id": "68472c5b-5011-4c68-8b98-33a1fb19d97c",
   "metadata": {},
   "outputs": [
    {
     "name": "stdin",
     "output_type": "stream",
     "text": [
      "Enter the Tuple seperated by ',' 1,2,3,4,5,6,7,8,9,1,5,7,6,1,7,6,1,9\n",
      "Enter the element you want to count in ('1', '2', '3', '4', '5', '6', '7', '8', '9', '1', '5', '7', '6', '1', '7', '6', '1', '9'): 1\n"
     ]
    },
    {
     "name": "stdout",
     "output_type": "stream",
     "text": [
      "Numbner of counts of 1:  4\n"
     ]
    }
   ],
   "source": [
    "def ele_count(tuple29,element):\n",
    "    count=tuple29.count(element)\n",
    "    return count\n",
    "\n",
    "input29=input(\"Enter the Tuple seperated by ','\")\n",
    "tuple_29=tuple(input29.split(','))\n",
    "ele=input(f\"Enter the element you want to count in {tuple_29}:\")\n",
    "print(f\"Numbner of counts of {ele}: \",ele_count(tuple_29,ele))"
   ]
  },
  {
   "cell_type": "markdown",
   "id": "15987b82-f2ff-436b-9e31-9fc41c3339f8",
   "metadata": {},
   "source": [
    "# 30.Develop a code that prompts the user to input two sets of strings. Then print the symmetric difference of these two sets of strings."
   ]
  },
  {
   "cell_type": "code",
   "execution_count": 30,
   "id": "19ee7060-2e34-405a-b83e-6f181d68e92b",
   "metadata": {},
   "outputs": [
    {
     "name": "stdin",
     "output_type": "stream",
     "text": [
      "Enter the first set:  1,2,3,4,5\n",
      "Enter the second set:  4,5,6,7,8,9\n"
     ]
    },
    {
     "name": "stdout",
     "output_type": "stream",
     "text": [
      "Symmentric difference between {'4', '5', '1', '2', '3'} and {'4', '5', '6', '9', '8', '7'} is  {'8', '2', '6', '9', '7', '1', '3'}\n"
     ]
    }
   ],
   "source": [
    "input_30=input(\"Enter the first set: \")\n",
    "set1=set(input_30.split(','))\n",
    "input_30=input(\"Enter the second set: \")\n",
    "set2=set(input_30.split(','))\n",
    "print(f\"Symmentric difference between {set1} and {set2} is \", set1^set2)"
   ]
  },
  {
   "cell_type": "markdown",
   "id": "bb5c89ca-ad6f-4f1b-b7a7-487a7117bc1b",
   "metadata": {},
   "source": [
    "# 31. Write a code that takes a list of words as input and returns dictionary where keys are unique words and the values are the frequencies of those words in the input list."
   ]
  },
  {
   "cell_type": "code",
   "execution_count": 31,
   "id": "ff27b646-1180-43b6-8234-d3bbdc763c91",
   "metadata": {},
   "outputs": [
    {
     "name": "stdin",
     "output_type": "stream",
     "text": [
      "Enter the list of words seperated by commas:  shubham,ekta,shubham,ekta,ram,shyam\n"
     ]
    },
    {
     "name": "stdout",
     "output_type": "stream",
     "text": [
      "{'shyam': 1, 'shubham': 2, 'ram': 1, 'ekta': 2}\n"
     ]
    }
   ],
   "source": [
    "input_31=input(\"Enter the list of words seperated by commas: \")\n",
    "list_31=list(input_31.split(','))\n",
    "keys_list=list(set(list_31))\n",
    "my_dict={}\n",
    "count=0\n",
    "for key in keys_list:\n",
    "    for item in list_31:\n",
    "        if key==item:\n",
    "            count=count+1\n",
    "    my_dict[key]=count\n",
    "    count=0\n",
    "print(my_dict)"
   ]
  },
  {
   "cell_type": "markdown",
   "id": "2c357923-9bcb-49d5-908a-67aedad7e35e",
   "metadata": {},
   "source": [
    "# 32. Write a code that takes two dictionaries as input and merges them into a single dictionary. If there are common keys, the values should be added together."
   ]
  },
  {
   "cell_type": "code",
   "execution_count": 32,
   "id": "d701fc40-0de7-4640-8a26-7a51f3e2b502",
   "metadata": {},
   "outputs": [
    {
     "name": "stdin",
     "output_type": "stream",
     "text": [
      "Enter the first dictionary in the format (key1:vale1,key2,.....) shubham:2,ram:4,shyam:8\n",
      "Enter the second dictionary in the format (key1:vale1,key2,.....) shubham:2,rama:4,shyam:8\n"
     ]
    },
    {
     "name": "stdout",
     "output_type": "stream",
     "text": [
      "Merged dictionary is {'shubham': 4, 'ram': 4, 'shyam': 16, 'rama': 4}\n"
     ]
    }
   ],
   "source": [
    "def dict_format(dict_original):\n",
    "    dictionary={}\n",
    "    items=dict_original.split(',')\n",
    "    for item in items:\n",
    "        key,value=item.split(':')\n",
    "        dictionary[key.strip()]=int(value.strip())\n",
    "    return dictionary\n",
    "\n",
    "def merge_dict(dict_1,dict_2):\n",
    "    merged_dict=dict_1.copy()\n",
    "    for key, value in dict_2.items():\n",
    "        if key in merged_dict:\n",
    "            merged_dict[key]+=value\n",
    "        else:\n",
    "            merged_dict[key]=value\n",
    "    return merged_dict\n",
    "    \n",
    "\n",
    "dict_1=input(\"Enter the first dictionary in the format (key1:vale1,key2,.....)\")\n",
    "dict_2=input(\"Enter the second dictionary in the format (key1:vale1,key2,.....)\")\n",
    "dict1=dict_format(dict_1)\n",
    "dict2=dict_format(dict_2)\n",
    "merged_dictionary=merge_dict(dict1,dict2)\n",
    "print(f\"Merged dictionary is {merged_dictionary}\")"
   ]
  },
  {
   "cell_type": "markdown",
   "id": "689dac46-8a66-4ea6-9d07-78cd2fd74116",
   "metadata": {},
   "source": [
    "# 33. Write a code to access a value in a nested dictionary. The function should take dictionary and a list of keys as input and return the corrosponding value. If any of the keys do not exist in the dictionary, then function should return None."
   ]
  },
  {
   "cell_type": "code",
   "execution_count": 33,
   "id": "97bb5c72-7ed3-4d30-8f63-d7644e173460",
   "metadata": {},
   "outputs": [
    {
     "name": "stdout",
     "output_type": "stream",
     "text": [
      "Value for ['a', 'b', 'c']: 42\n",
      "Value for ['a', 'b', 'x']: None\n",
      "Value for ['e', 'f', 'g']: world\n"
     ]
    }
   ],
   "source": [
    "def dict_format(dict_original):\n",
    "    dictionary={}\n",
    "    items=dict_original.split(',')\n",
    "    for item in items:\n",
    "        key,value=item.split(':')\n",
    "        dictionary[key.strip()]=int(value.strip())\n",
    "    return dictionary\n",
    "\n",
    "def get_nested_value(nested_dict, key_list):\n",
    "    \n",
    "    current_dict = nested_dict\n",
    "    for key in key_list:\n",
    "        if key in current_dict:\n",
    "            current_dict = current_dict[key]\n",
    "        else:\n",
    "            return None\n",
    "    return current_dict\n",
    "\n",
    "nested_dict = {\n",
    "    'a': {\n",
    "        'b': {\n",
    "            'c': 42,\n",
    "            'd': 'hello'\n",
    "        }\n",
    "    },\n",
    "    'e': {\n",
    "        'f': {\n",
    "            'g': 'world'\n",
    "        }\n",
    "    }\n",
    "}\n",
    "\n",
    "\n",
    "key_list1 = ['a', 'b', 'c']\n",
    "key_list2 = ['a', 'b', 'x']\n",
    "key_list3 = ['e', 'f', 'g']\n",
    "\n",
    "value1 = get_nested_value(nested_dict, key_list1)\n",
    "value2 = get_nested_value(nested_dict, key_list2)\n",
    "value3 = get_nested_value(nested_dict, key_list3)\n",
    "\n",
    "print(f\"Value for {key_list1}: {value1}\")  \n",
    "print(f\"Value for {key_list2}: {value2}\")  \n",
    "print(f\"Value for {key_list3}: {value3}\")  "
   ]
  },
  {
   "cell_type": "markdown",
   "id": "5d2ba117-82c1-4d25-83ce-53c2b020bbc4",
   "metadata": {},
   "source": [
    "# 34. Write a code that takes a dictionary as input and returns a sorted version of it based on the values. You can choose whether to sort in ascending order or descending order."
   ]
  },
  {
   "cell_type": "code",
   "execution_count": null,
   "id": "de6396ad-c898-4116-89ea-7522e22c118a",
   "metadata": {},
   "outputs": [],
   "source": [
    "def sort_dictionary_by_values(dictionary, ascending=True):\n",
    "   \n",
    "    sorted_dict = dict(sorted(dictionary.items(), key=lambda item: item[1], reverse=not ascending))\n",
    "    return sorted_dict\n",
    "\n",
    "dict_1=input(\"Enter the first dictionary in the format (key1:vale1,key2,.....)\")\n",
    "dict1=dict_format(dict_1)\n",
    "\n",
    "sorted_dict_asc = sort_dictionary_by_values(dict1, ascending=True)\n",
    "print(\"Sorted dictionary (ascending order):\", sorted_dict_asc)\n",
    "\n",
    "sorted_dict_desc = sort_dictionary_by_values(dict1, ascending=False)\n",
    "print(\"Sorted dictionary (descending order):\", sorted_dict_desc)"
   ]
  },
  {
   "cell_type": "markdown",
   "id": "ce4a2ca7-64d2-46c0-9718-18833803772f",
   "metadata": {},
   "source": [
    "# 34. Write a code that inverts a dictionary, swapping keys and values. Ensure that the inverted dictionary correctly handles cases where multiple keys have same value by storing the keys as a list in the inverted dictionary."
   ]
  },
  {
   "cell_type": "code",
   "execution_count": 56,
   "id": "85ece5c2-91e6-4ae3-b0db-92973a50cb62",
   "metadata": {},
   "outputs": [
    {
     "name": "stdout",
     "output_type": "stream",
     "text": [
      "Original Dictionary: {'a': 1, 'b': 2, 'c': 1, 'd': 3, 'e': 2, 'f': 1}\n",
      "Inverted Dictionary:\n",
      "1: ['a', 'c', 'f']\n",
      "2: ['b', 'e']\n",
      "3: d\n"
     ]
    }
   ],
   "source": [
    "def invert_dictionary(dictionary):\n",
    "   \n",
    "    inverted_dict = {}\n",
    "    for key, value in dictionary.items():\n",
    "        if value in inverted_dict:\n",
    "            if isinstance(inverted_dict[value], list):\n",
    "                inverted_dict[value].append(key)\n",
    "            else:\n",
    "                inverted_dict[value] = [inverted_dict[value], key]\n",
    "        else:\n",
    "            inverted_dict[value] = key\n",
    "    return inverted_dict\n",
    "\n",
    "my_dict = {\n",
    "    'a': 1,\n",
    "    'b': 2,\n",
    "    'c': 1,\n",
    "    'd': 3,\n",
    "    'e': 2,\n",
    "    'f': 1\n",
    "}\n",
    "\n",
    "inverted_dict = invert_dictionary(my_dict)\n",
    "\n",
    "print(\"Original Dictionary:\", my_dict)\n",
    "print(\"Inverted Dictionary:\")\n",
    "for key, value in inverted_dict.items():\n",
    "    print(f\"{key}: {value}\")"
   ]
  },
  {
   "cell_type": "code",
   "execution_count": null,
   "id": "8250e781-bc78-4092-bb1a-3439874bea18",
   "metadata": {},
   "outputs": [],
   "source": []
  }
 ],
 "metadata": {
  "kernelspec": {
   "display_name": "Python 3 (ipykernel)",
   "language": "python",
   "name": "python3"
  },
  "language_info": {
   "codemirror_mode": {
    "name": "ipython",
    "version": 3
   },
   "file_extension": ".py",
   "mimetype": "text/x-python",
   "name": "python",
   "nbconvert_exporter": "python",
   "pygments_lexer": "ipython3",
   "version": "3.10.8"
  }
 },
 "nbformat": 4,
 "nbformat_minor": 5
}
